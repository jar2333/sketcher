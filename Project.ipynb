{
 "cells": [
  {
   "cell_type": "code",
   "execution_count": 2,
   "id": "9bc99d2d",
   "metadata": {},
   "outputs": [],
   "source": [
    "import numpy as np\n",
    "\n",
    "import scipy as sc\n",
    "import scipy.io as scio # for loading .mat file\n",
    "from scipy import linalg\n",
    "from scipy.spatial import KDTree\n",
    "\n",
    "from sklearn.decomposition import PCA as PCAdimReduc\n",
    "from sklearn.feature_extraction import DictVectorizer\n",
    "\n",
    "import networkx as nx\n",
    "\n",
    "import pygmtools as pygm\n",
    "\n",
    "import matplotlib.pyplot as plt\n",
    "from matplotlib.patches import ConnectionPatch\n",
    "\n",
    "import cv2\n",
    "\n",
    "import shapely\n",
    "\n",
    "import svgpathtools\n",
    "import drawsvg as draw\n",
    "\n",
    "from bplustree import BPlusTree\n",
    "from bplustree.serializer import Serializer\n",
    "from bplustree.node import Node\n",
    "\n",
    "import pickle\n",
    "\n",
    "from xml.dom import minidom\n",
    "\n",
    "import functools\n",
    "from itertools import product, combinations\n",
    "from typing import Optional, Tuple, List\n",
    "from collections import Counter, defaultdict\n",
    "\n",
    "import struct\n",
    "\n",
    "import os, errno\n",
    "import sys\n",
    "\n",
    "import random\n",
    "\n",
    "pygm.BACKEND = 'numpy' # set numpy as backend for pygmtools"
   ]
  },
  {
   "cell_type": "markdown",
   "id": "c502a422",
   "metadata": {},
   "source": [
    "# TOPOLOGY GRAPH / GEOMETRY EXTRACTION"
   ]
  },
  {
   "cell_type": "code",
   "execution_count": 3,
   "id": "82e52b97",
   "metadata": {},
   "outputs": [],
   "source": [
    "from src.svg import *\n",
    "from src.extraction import *\n",
    "from src.database import *\n",
    "from src.matching import *"
   ]
  },
  {
   "cell_type": "code",
   "execution_count": 6,
   "id": "9c7cf1bc",
   "metadata": {},
   "outputs": [
    {
     "name": "stdout",
     "output_type": "stream",
     "text": [
      "{'attrib': {'fill': 'none', 'stroke': 'black', 'stroke-linecap': 'round', 'stroke-linejoin': 'round', 'stroke-width': '1.3537', 'transform': 'translate(87.52,138.4919) scale(2.2162) translate(-180,-104)'}, 'paths': [Path(CubicBezier(start=(325+193j), control1=(325+193j), control2=(319.8642+192.034j), end=(316+193j)),\n",
      "     CubicBezier(start=(316+193j), control1=(310.7404+194.3149j), control2=(309.5617+194.6053j), end=(305+198j)),\n",
      "     CubicBezier(start=(305+198j), control1=(288.8575+210.013j), control2=(287.8161+211.4186j), end=(273+225j)),\n",
      "     CubicBezier(start=(273+225j), control1=(270.5198+227.2735j), control2=(269.9805+228.0586j), end=(269+231j)),\n",
      "     CubicBezier(start=(269+231j), control1=(267.7521+234.7436j), control2=(266.8215+237.4286j), end=(268+240j)),\n",
      "     CubicBezier(start=(268+240j), control1=(270.8285+246.1713j), control2=(273.7215+249.0355j), end=(280+255j)),\n",
      "     CubicBezier(start=(280+255j), control1=(282.8223+257.6812j), control2=(284.1572+258.4178j), end=(288+259j)),\n",
      "     CubicBezier(start=(288+259j), control1=(299.2306+260.7016j), control2=(301.3251+261.401j), end=(313+260j)),\n",
      "     CubicBezier(start=(313+260j), control1=(325.1253+258.545j), control2=(327.8166+258.4312j), end=(338+253j)),\n",
      "     CubicBezier(start=(338+253j), control1=(348.3016+247.5058j), control2=(349.4121+244.9182j), end=(358+236j)),\n",
      "     CubicBezier(start=(358+236j), control1=(361.7369+232.1194j), control2=(361.8953+231.1661j), end=(364+226j)),\n",
      "     CubicBezier(start=(364+226j), control1=(367.2197+218.097j), control2=(369.709+214.3178j), end=(369+209j)),\n",
      "     CubicBezier(start=(369+209j), control1=(368.3836+204.3768j), control2=(364.8357+201.4805j), end=(360+196j)),\n",
      "     CubicBezier(start=(360+196j), control1=(357.8538+193.5677j), control2=(357.0689+193.0741j), end=(354+192j)),\n",
      "     CubicBezier(start=(354+192j), control1=(347.7585+189.8155j), control2=(346.9204+189.5932j), end=(340+189j)),\n",
      "     CubicBezier(start=(340+189j), control1=(329.8067+188.1263j), control2=(319+189j), end=(319+189j))), Path(CubicBezier(start=(357+181j), control1=(357+181j), control2=(358.3513+189.3444j), end=(362+195j)),\n",
      "     CubicBezier(start=(362+195j), control1=(367.6508+203.7587j), control2=(369.2729+204.9448j), end=(377+212j)),\n",
      "     CubicBezier(start=(377+212j), control1=(379.9499+214.6934j), control2=(381.2027+214.9874j), end=(385+216j)),\n",
      "     CubicBezier(start=(385+216j), control1=(387.9318+216.7818j), control2=(389.0615+216.9507j), end=(392+216j)),\n",
      "     CubicBezier(start=(392+216j), control1=(404.8283+211.8497j), control2=(406.481+211.2595j), end=(419+205j)),\n",
      "     CubicBezier(start=(419+205j), control1=(423.815+202.5925j), control2=(424.8015+201.8839j), end=(428+198j)),\n",
      "     CubicBezier(start=(428+198j), control1=(431.1332+194.1954j), control2=(431.5566+193.052j), end=(433+188j)),\n",
      "     CubicBezier(start=(433+188j), control1=(435.3816+179.6642j), control2=(437.4515+172.6127j), end=(436+170j)),\n",
      "     CubicBezier(start=(436+170j), control1=(434.3115+166.9607j), control2=(426.532+162.5997j), end=(418+161j)),\n",
      "     CubicBezier(start=(418+161j), control1=(404.9989+158.5623j), control2=(402.645+160.0237j), end=(388+161j)),\n",
      "     CubicBezier(start=(388+161j), control1=(380.5798+161.4947j), control2=(379.2188+161.2123j), end=(373+164j)),\n",
      "     CubicBezier(start=(373+164j), control1=(365.9678+167.1524j), control2=(359+174j), end=(359+174j))), Path(CubicBezier(start=(268+238j), control1=(268+238j), control2=(262.1062+232.4297j), end=(257+231j)),\n",
      "     CubicBezier(start=(257+231j), control1=(251.484+229.4555j), control2=(249.9141+230.6708j), end=(243+231j)),\n",
      "     CubicBezier(start=(243+231j), control1=(239.5194+231.1657j), control2=(238.8569+230.6814j), end=(236+232j)),\n",
      "     CubicBezier(start=(236+232j), control1=(226.7813+236.2548j), control2=(224.026+236.4273j), end=(217+243j)),\n",
      "     CubicBezier(start=(217+243j), control1=(210.0823+249.4714j), control2=(208.2985+252.7537j), end=(205+261j)),\n",
      "     CubicBezier(start=(205+261j), control1=(203.2639+265.3402j), control2=(203.5798+268.3336j), end=(205+273j)),\n",
      "     CubicBezier(start=(205+273j), control1=(206.554+278.106j), control2=(208.0537+281.6787j), end=(212+284j)),\n",
      "     CubicBezier(start=(212+284j), control1=(221.4607+289.5651j), control2=(225.6783+290.2813j), end=(239+293j)),\n",
      "     CubicBezier(start=(239+293j), control1=(249.2576+295.0934j), control2=(250.6794+294.645j), end=(261+294j)),\n",
      "     CubicBezier(start=(261+294j), control1=(265.7927+293.7005j), control2=(266.1951+292.8018j), end=(271+291j)),\n",
      "     CubicBezier(start=(271+291j), control1=(274.0773+289.846j), control2=(274.8474+290.0181j), end=(277+288j)),\n",
      "     CubicBezier(start=(277+288j), control1=(282.1907+283.1337j), control2=(283.2179+282.2134j), end=(287+276j)),\n",
      "     CubicBezier(start=(287+276j), control1=(289.8093+271.3847j), control2=(290.5206+269.7938j), end=(291+265j)),\n",
      "     CubicBezier(start=(291+265j), control1=(291.37+261.2996j), control2=(289+256j), end=(289+256j))), Path(CubicBezier(start=(266+231j), control1=(266+231j), control2=(261.8214+220.5803j), end=(257+216j)),\n",
      "     CubicBezier(start=(257+216j), control1=(253.9309+213.0844j), control2=(251.4238+212.6924j), end=(246+212j)),\n",
      "     CubicBezier(start=(246+212j), control1=(228.9165+209.8191j), control2=(227.6381+209.4655j), end=(210+210j)),\n",
      "     CubicBezier(start=(210+210j), control1=(195.2173+210.448j), control2=(182.8086+214.0936j), end=(180+214j)),\n",
      "     CubicBezier(start=(180+214j), control1=(179.9843+213.9995j), control2=(179.7156+209.1053j), end=(180+209j)),\n",
      "     CubicBezier(start=(180+209j), control1=(184.4316+207.3587j), control2=(193.765+204.5439j), end=(207+204j)),\n",
      "     CubicBezier(start=(207+204j), control1=(229.3382+203.082j), control2=(230.5123+203.8583j), end=(253+206j)),\n",
      "     CubicBezier(start=(253+206j), control1=(261.4619+206.8059j), control2=(268.5049+207.9773j), end=(270+210j)),\n",
      "     CubicBezier(start=(270+210j), control1=(271.7148+212.3201j), control2=(270+229j), end=(270+229j))), Path(CubicBezier(start=(298+263j), control1=(298+263j), control2=(319.4281+268.9615j), end=(326+274j)),\n",
      "     CubicBezier(start=(326+274j), control1=(328.0203+275.5489j), control2=(329.1776+281.2898j), end=(328+286j)),\n",
      "     CubicBezier(start=(328+286j), control1=(323.5202+303.9192j), control2=(321.5897+309.1642j), end=(313+326j)),\n",
      "     CubicBezier(start=(313+326j), control1=(310.458+330.9822j), control2=(308.2261+332.2902j), end=(303+335j)),\n",
      "     CubicBezier(start=(303+335j), control1=(296.0186+338.62j), control2=(286.4788+340.2234j), end=(286+340j)),\n",
      "     CubicBezier(start=(286+340j), control1=(285.8825+339.9452j), control2=(286.4573+330.3998j), end=(288+328j)),\n",
      "     CubicBezier(start=(288+328j), control1=(288.7548+326.8259j), control2=(292.3045+327.7624j), end=(295+326j)),\n",
      "     CubicBezier(start=(295+326j), control1=(304.3467+319.8887j), control2=(307.2428+318.6385j), end=(314+311j)),\n",
      "     CubicBezier(start=(314+311j), control1=(317.0885+307.5086j), control2=(317.0292+305.3394j), end=(318+300j)),\n",
      "     CubicBezier(start=(318+300j), control1=(318.9106+294.9917j), control2=(318.8445+293.7856j), end=(318+289j)),\n",
      "     CubicBezier(start=(318+289j), control1=(317.4987+286.1593j), control2=(316.9025+285.6272j), end=(315+283j)),\n",
      "     CubicBezier(start=(315+283j), control1=(306.6115+271.4159j), control2=(297+260j), end=(297+260j))), Path(CubicBezier(start=(302+200j), control1=(302+200j), control2=(296.7099+191.5258j), end=(290+186j)),\n",
      "     CubicBezier(start=(290+186j), control1=(280.4384+178.1258j), control2=(279.4303+176.8222j), end=(268+172j)),\n",
      "     CubicBezier(start=(268+172j), control1=(248.5505+163.7947j), control2=(226.0867+159.0478j), end=(226+159j)),\n",
      "     CubicBezier(start=(226+159j), control1=(225.98+158.989j), control2=(233.2897+155.7961j), end=(239+156j)),\n",
      "     CubicBezier(start=(239+156j), control1=(245.7069+156.2395j), control2=(246.9193+157.2368j), end=(254+160j)),\n",
      "     CubicBezier(start=(254+160j), control1=(267.1186+165.1195j), control2=(268.7266+164.88j), end=(280+172j)),\n",
      "     CubicBezier(start=(280+172j), control1=(286.5732+176.1515j), control2=(285.6776+179.1145j), end=(292+184j)),\n",
      "     CubicBezier(start=(292+184j), control1=(296.1204+187.1839j), control2=(299.5227+186.0272j), end=(302+189j)),\n",
      "     CubicBezier(start=(302+189j), control1=(305.1896+192.8275j), control2=(307+202j), end=(307+202j))), Path(CubicBezier(start=(346+253j), control1=(346+253j), control2=(353.0166+256.9684j), end=(357+262j)),\n",
      "     CubicBezier(start=(357+262j), control1=(361.7988+268.0616j), control2=(361.9785+269.33j), end=(365+277j)),\n",
      "     CubicBezier(start=(365+277j), control1=(368.3242+285.4382j), control2=(370+287.1851j), end=(370+295j)),\n",
      "     CubicBezier(start=(370+295j), control1=(370+303.2491j), control2=(365+313.6113j), end=(365+314j)),\n",
      "     CubicBezier(start=(365+314j), control1=(365+314.0409j), control2=(369.3866+313.1587j), end=(370+312j)),\n",
      "     CubicBezier(start=(370+312j), control1=(372.2597+307.7318j), control2=(373.5451+304.0516j), end=(374+297j)),\n",
      "     CubicBezier(start=(374+297j), control1=(374.4732+289.6652j), control2=(373.6034+288.788j), end=(372+281j)),\n",
      "     CubicBezier(start=(372+281j), control1=(370.1408+271.9698j), control2=(371.0524+270.0918j), end=(367+263j)),\n",
      "     CubicBezier(start=(367+263j), control1=(362.0316+254.3053j), control2=(352+246j), end=(352+246j))), Path(CubicBezier(start=(336+190j), control1=(336+190j), control2=(335.3359+179.1931j), end=(333+169j)),\n",
      "     CubicBezier(start=(333+169j), control1=(329.8944+155.4483j), control2=(327.2986+155.217j), end=(325+142j)),\n",
      "     CubicBezier(start=(325+142j), control1=(323.4617+133.1549j), control2=(323.646+131.6658j), end=(325+123j)),\n",
      "     CubicBezier(start=(325+123j), control1=(325.9821+116.7145j), control2=(327.1103+113.5565j), end=(330+110j)),\n",
      "     CubicBezier(start=(330+110j), control1=(331.6089+108.0198j), control2=(337.5894+107.4106j), end=(338+107j)),\n",
      "     CubicBezier(start=(338+107j), control1=(338.0373+106.9627j), control2=(336.0749+103.985j), end=(336+104j)),\n",
      "     CubicBezier(start=(336+104j), control1=(335.7967+104.0407j), control2=(333.1228+106.2803j), end=(333+108j)),\n",
      "     CubicBezier(start=(333+108j), control1=(331.4823+129.2482j), control2=(328.7542+136.1978j), end=(332+160j)),\n",
      "     CubicBezier(start=(332+160j), control1=(334.3639+177.3353j), control2=(345+196j), end=(345+196j))), Path(CubicBezier(start=(367+228j), control1=(367+228j), control2=(383.6979+234.9622j), end=(400+237j)),\n",
      "     CubicBezier(start=(400+237j), control1=(422.5125+239.8141j), control2=(437.7067+237.0319j), end=(447+238j)),\n",
      "     CubicBezier(start=(447+238j), control1=(447.2795+238.0291j), control2=(448.2455+241.2634j), end=(448+242j)),\n",
      "     CubicBezier(start=(448+242j), control1=(447.7991+242.6027j), control2=(446.2577+243.9693j), end=(445+244j)),\n",
      "     CubicBezier(start=(445+244j), control1=(429.3344+244.3821j), control2=(425.0674+245.7225j), end=(407+243j)),\n",
      "     CubicBezier(start=(407+243j), control1=(389.7111+240.3948j), control2=(388.3269+239.0339j), end=(372+233j)),\n",
      "     CubicBezier(start=(372+233j), control1=(366.2672+230.8814j), control2=(361+226j), end=(361+226j))), Path(CubicBezier(start=(411+158j), control1=(411+158j), control2=(409.4571+145.3361j), end=(410+145j)),\n",
      "     CubicBezier(start=(410+145j), control1=(411.6948+143.9508j), control2=(430.9773+145.2557j), end=(432+145j)),\n",
      "     CubicBezier(start=(432+145j), control1=(432.0349+144.9913j), control2=(430.8034+140.309j), end=(430+140j)),\n",
      "     CubicBezier(start=(430+140j), control1=(427.7473+139.1336j), control2=(423.9274+139.1788j), end=(419+140j)),\n",
      "     CubicBezier(start=(419+140j), control1=(415.6404+140.5599j), control2=(414.6582+141.0667j), end=(412+143j)),\n",
      "     CubicBezier(start=(412+143j), control1=(409.7892+144.6079j), control2=(408.5988+145.7546j), end=(408+148j)),\n",
      "     CubicBezier(start=(408+148j), control1=(407.013+151.7012j), control2=(408+158j), end=(408+158j))), Path(CubicBezier(start=(434+192j), control1=(434+192j), control2=(434.8979+195.3388j), end=(436+196j)),\n",
      "     CubicBezier(start=(436+196j), control1=(438.3043+197.3826j), control2=(440.5545+198.2871j), end=(444+198j)),\n",
      "     CubicBezier(start=(444+198j), control1=(451.1843+197.4013j), control2=(456.8932+196.0103j), end=(460+194j)),\n",
      "     CubicBezier(start=(460+194j), control1=(460.9242+193.402j), control2=(460.9984+187.0016j), end=(461+187j)),\n",
      "     CubicBezier(start=(461+187j), control1=(461.0008+186.9992j), control2=(462+189.6599j), end=(462+192j)),\n",
      "     CubicBezier(start=(462+192j), control1=(462+194.8082j), control2=(462.0452+196.4322j), end=(461+198j)),\n",
      "     CubicBezier(start=(461+198j), control1=(460.0071+199.4894j), control2=(458.3033+200.6363j), end=(456+201j)),\n",
      "     CubicBezier(start=(456+201j), control1=(450.1089+201.9302j), control2=(448.3165+201.9024j), end=(442+201j)),\n",
      "     CubicBezier(start=(442+201j), control1=(438.6484+200.5212j), control2=(435+198j), end=(435+198j))), Path(CubicBezier(start=(410+166j), control1=(410+166j), control2=(400.279+163.6802j), end=(399+164j)),\n",
      "     CubicBezier(start=(399+164j), control1=(398.7259+164.0685j), control2=(397.8437+168.0621j), end=(398+169j)),\n",
      "     CubicBezier(start=(398+169j), control1=(398.0431+169.2587j), control2=(399.0718+169.9227j), end=(400+170j)),\n",
      "     CubicBezier(start=(400+170j), control1=(404.4551+170.3713j), control2=(408.7981+170.2404j), end=(410+170j)),\n",
      "     CubicBezier(start=(410+170j), control1=(410.0481+169.9904j), control2=(410.0258+168.0037j), end=(410+168j)),\n",
      "     CubicBezier(start=(410+168j), control1=(409.3808+167.9115j), control2=(403+169j), end=(403+169j))), Path(CubicBezier(start=(424+181j), control1=(424+181j), control2=(420+189.9999j), end=(420+190j)),\n",
      "     CubicBezier(start=(420+190j), control1=(420+190j), control2=(422.6836+185.1898j), end=(423+185j)),\n",
      "     CubicBezier(start=(423+185j), control1=(423.0422+184.9747j), control2=(425+187j), end=(425+187j)))], 'filename': 'assets/svg/ant/269.svg'}\n"
     ]
    },
    {
     "data": {
      "image/svg+xml": [
       "<?xml version=\"1.0\" encoding=\"UTF-8\"?>\n",
       "<svg xmlns=\"http://www.w3.org/2000/svg\" xmlns:xlink=\"http://www.w3.org/1999/xlink\"\n",
       "     width=\"800\" height=\"800\" viewBox=\"0 0 800 800\">\n",
       "<defs>\n",
       "</defs>\n",
       "<path d=\"M325.0,193.0 C310.7404,194.3149,309.5617,194.6053,305.0,198.0 C288.8575,210.013,287.8161,211.4186,273.0,225.0 C270.5198,227.2735,269.9805,228.0586,269.0,231.0 C267.7521,234.7436,266.8215,237.4286,268.0,240.0 C270.8285,246.1713,273.7215,249.0355,280.0,255.0 C282.8223,257.6812,284.1572,258.4178,288.0,259.0 C299.2306,260.7016,301.3251,261.401,313.0,260.0 C325.1253,258.545,327.8166,258.4312,338.0,253.0 C348.3016,247.5058,349.4121,244.9182,358.0,236.0 C361.7369,232.1194,361.8953,231.1661,364.0,226.0 C367.2197,218.097,369.709,214.3178,369.0,209.0 C368.3836,204.3768,364.8357,201.4805,360.0,196.0 C357.8538,193.5677,357.0689,193.0741,354.0,192.0 C347.7585,189.8155,346.9204,189.5932,340.0,189.0 C329.8067,188.1263,319.0,189.0,319.0,189.0\" stroke-width=\"1.3537\" stroke=\"black\" fill=\"none\" />\n",
       "<text x=\"329.8067\" y=\"188.1263\" font-size=\"8\" fill=\"blue\">0</text>\n",
       "<path d=\"M357.0,181.0 C367.6508,203.7587,369.2729,204.9448,377.0,212.0 C379.9499,214.6934,381.2027,214.9874,385.0,216.0 C387.9318,216.7818,389.0615,216.9507,392.0,216.0 C404.8283,211.8497,406.481,211.2595,419.0,205.0 C423.815,202.5925,424.8015,201.8839,428.0,198.0 C431.1332,194.1954,431.5566,193.052,433.0,188.0 C435.3816,179.6642,437.4515,172.6127,436.0,170.0 C434.3115,166.9607,426.532,162.5997,418.0,161.0 C404.9989,158.5623,402.645,160.0237,388.0,161.0 C380.5798,161.4947,379.2188,161.2123,373.0,164.0 C365.9678,167.1524,359.0,174.0,359.0,174.0\" stroke-width=\"1.3537\" stroke=\"black\" fill=\"none\" />\n",
       "<text x=\"365.9678\" y=\"167.1524\" font-size=\"8\" fill=\"blue\">1</text>\n",
       "<path d=\"M268.0,238.0 C251.484,229.4555,249.9141,230.6708,243.0,231.0 C239.5194,231.1657,238.8569,230.6814,236.0,232.0 C226.7813,236.2548,224.026,236.4273,217.0,243.0 C210.0823,249.4714,208.2985,252.7537,205.0,261.0 C203.2639,265.3402,203.5798,268.3336,205.0,273.0 C206.554,278.106,208.0537,281.6787,212.0,284.0 C221.4607,289.5651,225.6783,290.2813,239.0,293.0 C249.2576,295.0934,250.6794,294.645,261.0,294.0 C265.7927,293.7005,266.1951,292.8018,271.0,291.0 C274.0773,289.846,274.8474,290.0181,277.0,288.0 C282.1907,283.1337,283.2179,282.2134,287.0,276.0 C289.8093,271.3847,290.5206,269.7938,291.0,265.0 C291.37,261.2996,289.0,256.0,289.0,256.0\" stroke-width=\"1.3537\" stroke=\"black\" fill=\"none\" />\n",
       "<text x=\"291.37\" y=\"261.2996\" font-size=\"8\" fill=\"blue\">2</text>\n",
       "<path d=\"M266.0,231.0 C253.9309,213.0844,251.4238,212.6924,246.0,212.0 C228.9165,209.8191,227.6381,209.4655,210.0,210.0 C195.2173,210.448,182.8086,214.0936,180.0,214.0 C179.9843,213.9995,179.7156,209.1053,180.0,209.0 C184.4316,207.3587,193.765,204.5439,207.0,204.0 C229.3382,203.082,230.5123,203.8583,253.0,206.0 C261.4619,206.8059,268.5049,207.9773,270.0,210.0 C271.7148,212.3201,270.0,229.0,270.0,229.0\" stroke-width=\"1.3537\" stroke=\"black\" fill=\"none\" />\n",
       "<text x=\"271.7148\" y=\"212.3201\" font-size=\"8\" fill=\"blue\">3</text>\n",
       "<path d=\"M298.0,263.0 C328.0203,275.5489,329.1776,281.2898,328.0,286.0 C323.5202,303.9192,321.5897,309.1642,313.0,326.0 C310.458,330.9822,308.2261,332.2902,303.0,335.0 C296.0186,338.62,286.4788,340.2234,286.0,340.0 C285.8825,339.9452,286.4573,330.3998,288.0,328.0 C288.7548,326.8259,292.3045,327.7624,295.0,326.0 C304.3467,319.8887,307.2428,318.6385,314.0,311.0 C317.0885,307.5086,317.0292,305.3394,318.0,300.0 C318.9106,294.9917,318.8445,293.7856,318.0,289.0 C317.4987,286.1593,316.9025,285.6272,315.0,283.0 C306.6115,271.4159,297.0,260.0,297.0,260.0\" stroke-width=\"1.3537\" stroke=\"black\" fill=\"none\" />\n",
       "<text x=\"306.6115\" y=\"271.4159\" font-size=\"8\" fill=\"blue\">4</text>\n",
       "<path d=\"M302.0,200.0 C280.4384,178.1258,279.4303,176.8222,268.0,172.0 C248.5505,163.7947,226.0867,159.0478,226.0,159.0 C225.98,158.989,233.2897,155.7961,239.0,156.0 C245.7069,156.2395,246.9193,157.2368,254.0,160.0 C267.1186,165.1195,268.7266,164.88,280.0,172.0 C286.5732,176.1515,285.6776,179.1145,292.0,184.0 C296.1204,187.1839,299.5227,186.0272,302.0,189.0 C305.1896,192.8275,307.0,202.0,307.0,202.0\" stroke-width=\"1.3537\" stroke=\"black\" fill=\"none\" />\n",
       "<text x=\"305.1896\" y=\"192.8275\" font-size=\"8\" fill=\"blue\">5</text>\n",
       "<path d=\"M346.0,253.0 C361.7988,268.0616,361.9785,269.33,365.0,277.0 C368.3242,285.4382,370.0,287.1851,370.0,295.0 C370.0,303.2491,365.0,313.6113,365.0,314.0 C365.0,314.0409,369.3866,313.1587,370.0,312.0 C372.2597,307.7318,373.5451,304.0516,374.0,297.0 C374.4732,289.6652,373.6034,288.788,372.0,281.0 C370.1408,271.9698,371.0524,270.0918,367.0,263.0 C362.0316,254.3053,352.0,246.0,352.0,246.0\" stroke-width=\"1.3537\" stroke=\"black\" fill=\"none\" />\n",
       "<text x=\"362.0316\" y=\"254.3053\" font-size=\"8\" fill=\"blue\">6</text>\n",
       "<path d=\"M336.0,190.0 C329.8944,155.4483,327.2986,155.217,325.0,142.0 C323.4617,133.1549,323.646,131.6658,325.0,123.0 C325.9821,116.7145,327.1103,113.5565,330.0,110.0 C331.6089,108.0198,337.5894,107.4106,338.0,107.0 C338.0373,106.9627,336.0749,103.985,336.0,104.0 C335.7967,104.0407,333.1228,106.2803,333.0,108.0 C331.4823,129.2482,328.7542,136.1978,332.0,160.0 C334.3639,177.3353,345.0,196.0,345.0,196.0\" stroke-width=\"1.3537\" stroke=\"black\" fill=\"none\" />\n",
       "<text x=\"334.3639\" y=\"177.3353\" font-size=\"8\" fill=\"blue\">7</text>\n",
       "<path d=\"M367.0,228.0 C422.5125,239.8141,437.7067,237.0319,447.0,238.0 C447.2795,238.0291,448.2455,241.2634,448.0,242.0 C447.7991,242.6027,446.2577,243.9693,445.0,244.0 C429.3344,244.3821,425.0674,245.7225,407.0,243.0 C389.7111,240.3948,388.3269,239.0339,372.0,233.0 C366.2672,230.8814,361.0,226.0,361.0,226.0\" stroke-width=\"1.3537\" stroke=\"black\" fill=\"none\" />\n",
       "<text x=\"366.2672\" y=\"230.8814\" font-size=\"8\" fill=\"blue\">8</text>\n",
       "<path d=\"M411.0,158.0 C411.6948,143.9508,430.9773,145.2557,432.0,145.0 C432.0349,144.9913,430.8034,140.309,430.0,140.0 C427.7473,139.1336,423.9274,139.1788,419.0,140.0 C415.6404,140.5599,414.6582,141.0667,412.0,143.0 C409.7892,144.6079,408.5988,145.7546,408.0,148.0 C407.013,151.7012,408.0,158.0,408.0,158.0\" stroke-width=\"1.3537\" stroke=\"black\" fill=\"none\" />\n",
       "<text x=\"407.013\" y=\"151.7012\" font-size=\"8\" fill=\"blue\">9</text>\n",
       "<path d=\"M434.0,192.0 C438.3043,197.3826,440.5545,198.2871,444.0,198.0 C451.1843,197.4013,456.8932,196.0103,460.0,194.0 C460.9242,193.402,460.9984,187.0016,461.0,187.0 C461.0008,186.9992,462.0,189.6599,462.0,192.0 C462.0,194.8082,462.0452,196.4322,461.0,198.0 C460.0071,199.4894,458.3033,200.6363,456.0,201.0 C450.1089,201.9302,448.3165,201.9024,442.0,201.0 C438.6484,200.5212,435.0,198.0,435.0,198.0\" stroke-width=\"1.3537\" stroke=\"black\" fill=\"none\" />\n",
       "<text x=\"438.6484\" y=\"200.5212\" font-size=\"8\" fill=\"blue\">10</text>\n",
       "<path d=\"M410.0,166.0 C398.7259,164.0685,397.8437,168.0621,398.0,169.0 C398.0431,169.2587,399.0718,169.9227,400.0,170.0 C404.4551,170.3713,408.7981,170.2404,410.0,170.0 C410.0481,169.9904,410.0258,168.0037,410.0,168.0 C409.3808,167.9115,403.0,169.0,403.0,169.0\" stroke-width=\"1.3537\" stroke=\"black\" fill=\"none\" />\n",
       "<text x=\"409.3808\" y=\"167.9115\" font-size=\"8\" fill=\"blue\">11</text>\n",
       "<path d=\"M424.0,181.0 C420.0,190.0,422.6836,185.1898,423.0,185.0 C423.0422,184.9747,425.0,187.0,425.0,187.0\" stroke-width=\"1.3537\" stroke=\"black\" fill=\"none\" />\n",
       "<text x=\"423.0422\" y=\"184.9747\" font-size=\"8\" fill=\"blue\">12</text>\n",
       "</svg>"
      ],
      "text/plain": [
       "<drawsvg.drawing.Drawing at 0x1ee91fa7ee0>"
      ]
     },
     "execution_count": 6,
     "metadata": {},
     "output_type": "execute_result"
    }
   ],
   "source": [
    "svg = load('assets/svg/ant/269.svg')\n",
    "print(svg)\n",
    "display(svg)"
   ]
  },
  {
   "cell_type": "code",
   "execution_count": 8,
   "id": "5de91da0",
   "metadata": {},
   "outputs": [],
   "source": [
    "line_strings = get_line_strings(map(to_control_points, svg['paths']), step=10)"
   ]
  },
  {
   "cell_type": "code",
   "execution_count": 10,
   "id": "fde6b278",
   "metadata": {},
   "outputs": [
    {
     "name": "stdout",
     "output_type": "stream",
     "text": [
      "LINESTRING (320 190, 320 190, 310 190, 310 190, 310 190, 310 190, 300 190, 300 190, 300 190, 280 210, 280 210, 270 220, 270 220, 270 220, 260 220, 260 230, 260 230, 260 230, 260 230, 260 240, 260 240, 270 240, 270 240, 280 250, 280 250, 280 250, 280 250, 280 250, 280 250, 290 260, 300 260, 310 260, 310 260, 320 250, 320 250, 330 250, 330 250, 340 240, 340 240, 350 230, 350 230, 360 230, 360 230, 360 220, 360 220, 360 210, 360 210, 360 200, 360 200, 360 200, 360 200, 360 190, 360 190, 350 190, 350 190, 350 190, 350 190, 340 180, 340 180, 340 180, 340 180, 320 180, 310 180, 310 180)\n",
      "<class 'shapely.geometry.linestring.LineString'>\n",
      "307.27922061357856\n",
      "14.142135623730951\n"
     ]
    },
    {
     "data": {
      "image/svg+xml": [
       "<svg xmlns=\"http://www.w3.org/2000/svg\" xmlns:xlink=\"http://www.w3.org/1999/xlink\" width=\"108.0\" height=\"100.0\" viewBox=\"256.0 176.0 108.0 88.0\" preserveAspectRatio=\"xMinYMin meet\"><g transform=\"matrix(1,0,0,-1,0,440.0)\"><polyline fill=\"none\" stroke=\"#66cc99\" stroke-width=\"2.0\" points=\"320.0,190.0 320.0,190.0 310.0,190.0 310.0,190.0 310.0,190.0 310.0,190.0 300.0,190.0 300.0,190.0 300.0,190.0 280.0,210.0 280.0,210.0 270.0,220.0 270.0,220.0 270.0,220.0 260.0,220.0 260.0,230.0 260.0,230.0 260.0,230.0 260.0,230.0 260.0,240.0 260.0,240.0 270.0,240.0 270.0,240.0 280.0,250.0 280.0,250.0 280.0,250.0 280.0,250.0 280.0,250.0 280.0,250.0 290.0,260.0 300.0,260.0 310.0,260.0 310.0,260.0 320.0,250.0 320.0,250.0 330.0,250.0 330.0,250.0 340.0,240.0 340.0,240.0 350.0,230.0 350.0,230.0 360.0,230.0 360.0,230.0 360.0,220.0 360.0,220.0 360.0,210.0 360.0,210.0 360.0,200.0 360.0,200.0 360.0,200.0 360.0,200.0 360.0,190.0 360.0,190.0 350.0,190.0 350.0,190.0 350.0,190.0 350.0,190.0 340.0,180.0 340.0,180.0 340.0,180.0 340.0,180.0 320.0,180.0 310.0,180.0 310.0,180.0\" opacity=\"0.8\" /></g></svg>"
      ],
      "text/plain": [
       "<LINESTRING (320 190, 320 190, 310 190, 310 190, 310 190, 310 190, 300 190, ...>"
      ]
     },
     "execution_count": 10,
     "metadata": {},
     "output_type": "execute_result"
    },
    {
     "data": {
      "image/png": "[encoded data removed]",
      "text/plain": [
       "<Figure size 432x288 with 1 Axes>"
      ]
     },
     "metadata": {
      "needs_background": "light"
     },
     "output_type": "display_data"
    },
    {
     "data": {
      "image/png": "[encoded data removed]",
      "text/plain": [
       "<Figure size 432x288 with 1 Axes>"
      ]
     },
     "metadata": {
      "needs_background": "light"
     },
     "output_type": "display_data"
    },
    {
     "data": {
      "image/png": "[encoded data removed]",
      "text/plain": [
       "<Figure size 432x288 with 1 Axes>"
      ]
     },
     "metadata": {
      "needs_background": "light"
     },
     "output_type": "display_data"
    }
   ],
   "source": [
    "index = 0\n",
    "ls = line_strings[index]\n",
    "\n",
    "print(ls)\n",
    "print(type(ls))\n",
    "print(ls.length)\n",
    "\n",
    "s, t = get_endpoints(ls)\n",
    "print(s.distance(t))\n",
    "\n",
    "plot_line_strings([ls])\n",
    "\n",
    "segments = get_segments(ls)\n",
    "\n",
    "# Plot segmented line string\n",
    "plot_line_strings(segments)\n",
    "\n",
    "# Plot closed line string\n",
    "plot_line_strings([detect_approximate_polygon(ls)])\n",
    "\n",
    "ls"
   ]
  },
  {
   "cell_type": "code",
   "execution_count": 11,
   "id": "5667782a",
   "metadata": {},
   "outputs": [
    {
     "data": {
      "image/svg+xml": [
       "<svg xmlns=\"http://www.w3.org/2000/svg\" xmlns:xlink=\"http://www.w3.org/1999/xlink\" width=\"300\" height=\"263.20000000000005\" viewBox=\"158.4 88.4 313.20000000000005 263.20000000000005\" preserveAspectRatio=\"xMinYMin meet\"><g transform=\"matrix(1,0,0,-1,0,440.0)\"><g><polyline fill=\"none\" stroke=\"#66cc99\" stroke-width=\"2.0880000000000005\" points=\"320.0,190.0 320.0,190.0 310.0,190.0 310.0,190.0 310.0,190.0 310.0,190.0 300.0,190.0 300.0,190.0 300.0,190.0 280.0,210.0 280.0,210.0 270.0,220.0 270.0,220.0 270.0,220.0 260.0,220.0 260.0,230.0 260.0,230.0 260.0,230.0 260.0,230.0 260.0,240.0 260.0,240.0 270.0,240.0 270.0,240.0 280.0,250.0 280.0,250.0 280.0,250.0 280.0,250.0 280.0,250.0 280.0,250.0 290.0,260.0 300.0,260.0 310.0,260.0 310.0,260.0 320.0,250.0 320.0,250.0 330.0,250.0 330.0,250.0 340.0,240.0 340.0,240.0 350.0,230.0 350.0,230.0 360.0,230.0 360.0,230.0 360.0,220.0 360.0,220.0 360.0,210.0 360.0,210.0 360.0,200.0 360.0,200.0 360.0,200.0 360.0,200.0 360.0,190.0 360.0,190.0 350.0,190.0 350.0,190.0 350.0,190.0 350.0,190.0 340.0,180.0 340.0,180.0 340.0,180.0 340.0,180.0 320.0,180.0 310.0,180.0 310.0,180.0\" opacity=\"0.8\" /><polyline fill=\"none\" stroke=\"#66cc99\" stroke-width=\"2.0880000000000005\" points=\"350.0,180.0 350.0,180.0 350.0,180.0 360.0,190.0 360.0,190.0 360.0,200.0 360.0,200.0 370.0,210.0 370.0,210.0 370.0,210.0 380.0,210.0 380.0,210.0 380.0,210.0 380.0,210.0 380.0,210.0 390.0,210.0 390.0,210.0 400.0,210.0 400.0,210.0 410.0,200.0 410.0,200.0 420.0,200.0 420.0,200.0 420.0,190.0 420.0,190.0 430.0,190.0 430.0,190.0 430.0,180.0 430.0,180.0 430.0,170.0 430.0,170.0 430.0,170.0 430.0,170.0 430.0,160.0 420.0,160.0 410.0,160.0 410.0,160.0 400.0,150.0 400.0,160.0 380.0,160.0 380.0,160.0 380.0,160.0 370.0,160.0 370.0,160.0 370.0,160.0 360.0,160.0 350.0,170.0 350.0,170.0\" opacity=\"0.8\" /><polyline fill=\"none\" stroke=\"#66cc99\" stroke-width=\"2.0880000000000005\" points=\"260.0,230.0 260.0,230.0 260.0,230.0 250.0,230.0 250.0,230.0 250.0,220.0 240.0,230.0 240.0,230.0 240.0,230.0 230.0,230.0 230.0,230.0 230.0,230.0 230.0,230.0 220.0,230.0 220.0,230.0 210.0,240.0 210.0,240.0 210.0,240.0 200.0,250.0 200.0,260.0 200.0,260.0 200.0,260.0 200.0,260.0 200.0,270.0 200.0,270.0 200.0,270.0 200.0,280.0 210.0,280.0 210.0,280.0 220.0,280.0 220.0,290.0 230.0,290.0 230.0,290.0 240.0,290.0 250.0,290.0 260.0,290.0 260.0,290.0 260.0,290.0 260.0,290.0 270.0,290.0 270.0,290.0 270.0,280.0 270.0,290.0 270.0,280.0 270.0,280.0 280.0,280.0 280.0,280.0 280.0,270.0 280.0,270.0 280.0,270.0 290.0,260.0 290.0,260.0 290.0,260.0 290.0,260.0 280.0,250.0 280.0,250.0\" opacity=\"0.8\" /><polyline fill=\"none\" stroke=\"#66cc99\" stroke-width=\"2.0880000000000005\" points=\"260.0,230.0 260.0,230.0 260.0,220.0 250.0,210.0 250.0,210.0 250.0,210.0 250.0,210.0 240.0,210.0 240.0,210.0 220.0,200.0 220.0,200.0 210.0,210.0 210.0,210.0 190.0,210.0 180.0,210.0 180.0,210.0 180.0,210.0 170.0,210.0 170.0,200.0 180.0,200.0 180.0,200.0 180.0,200.0 190.0,200.0 200.0,200.0 200.0,200.0 220.0,200.0 230.0,200.0 250.0,200.0 250.0,200.0 260.0,200.0 260.0,200.0 270.0,210.0 270.0,210.0 270.0,210.0 270.0,220.0 270.0,220.0\" opacity=\"0.8\" /><polyline fill=\"none\" stroke=\"#66cc99\" stroke-width=\"2.0880000000000005\" points=\"290.0,260.0 290.0,260.0 310.0,260.0 320.0,270.0 320.0,270.0 320.0,270.0 320.0,280.0 320.0,280.0 320.0,280.0 320.0,300.0 320.0,300.0 310.0,320.0 310.0,320.0 310.0,330.0 300.0,330.0 300.0,330.0 300.0,330.0 290.0,330.0 280.0,340.0 280.0,340.0 280.0,340.0 280.0,330.0 280.0,330.0 280.0,320.0 280.0,320.0 280.0,320.0 290.0,320.0 290.0,320.0 290.0,320.0 300.0,310.0 300.0,310.0 310.0,310.0 310.0,310.0 310.0,300.0 310.0,300.0 310.0,300.0 310.0,300.0 310.0,290.0 310.0,290.0 310.0,280.0 310.0,280.0 310.0,280.0 310.0,280.0 310.0,280.0 310.0,280.0 300.0,270.0 290.0,260.0 290.0,260.0\" opacity=\"0.8\" /><polyline fill=\"none\" stroke=\"#66cc99\" stroke-width=\"2.0880000000000005\" points=\"300.0,200.0 300.0,200.0 290.0,190.0 290.0,180.0 290.0,180.0 280.0,170.0 270.0,170.0 260.0,170.0 260.0,170.0 240.0,160.0 220.0,150.0 220.0,150.0 220.0,150.0 220.0,150.0 230.0,150.0 230.0,150.0 230.0,150.0 240.0,150.0 240.0,150.0 250.0,160.0 250.0,160.0 260.0,160.0 260.0,160.0 280.0,170.0 280.0,170.0 280.0,170.0 280.0,170.0 290.0,180.0 290.0,180.0 290.0,180.0 290.0,180.0 300.0,180.0 300.0,180.0 300.0,190.0 300.0,200.0 300.0,200.0\" opacity=\"0.8\" /><polyline fill=\"none\" stroke=\"#66cc99\" stroke-width=\"2.0880000000000005\" points=\"340.0,250.0 340.0,250.0 350.0,250.0 350.0,260.0 350.0,260.0 360.0,260.0 360.0,260.0 360.0,270.0 360.0,270.0 360.0,280.0 370.0,280.0 370.0,290.0 370.0,290.0 370.0,300.0 360.0,310.0 360.0,310.0 360.0,310.0 360.0,310.0 360.0,310.0 370.0,310.0 370.0,310.0 370.0,300.0 370.0,300.0 370.0,290.0 370.0,290.0 370.0,280.0 370.0,280.0 370.0,280.0 370.0,280.0 370.0,270.0 370.0,270.0 360.0,260.0 360.0,260.0 360.0,250.0 350.0,240.0 350.0,240.0\" opacity=\"0.8\" /><polyline fill=\"none\" stroke=\"#66cc99\" stroke-width=\"2.0880000000000005\" points=\"330.0,190.0 330.0,190.0 330.0,170.0 330.0,160.0 330.0,160.0 320.0,150.0 320.0,150.0 320.0,140.0 320.0,140.0 320.0,130.0 320.0,130.0 320.0,120.0 320.0,120.0 320.0,110.0 320.0,110.0 330.0,110.0 330.0,110.0 330.0,100.0 330.0,100.0 330.0,100.0 330.0,100.0 330.0,100.0 330.0,100.0 330.0,100.0 330.0,100.0 330.0,100.0 330.0,100.0 330.0,100.0 330.0,100.0 330.0,120.0 320.0,130.0 330.0,160.0 330.0,160.0 330.0,170.0 340.0,190.0 340.0,190.0\" opacity=\"0.8\" /><polyline fill=\"none\" stroke=\"#66cc99\" stroke-width=\"2.0880000000000005\" points=\"360.0,220.0 360.0,220.0 380.0,230.0 400.0,230.0 400.0,230.0 420.0,230.0 430.0,230.0 440.0,230.0 440.0,230.0 440.0,230.0 440.0,240.0 440.0,240.0 440.0,240.0 440.0,240.0 440.0,240.0 440.0,240.0 440.0,240.0 420.0,240.0 420.0,240.0 400.0,240.0 400.0,240.0 380.0,240.0 380.0,230.0 370.0,230.0 370.0,230.0 360.0,230.0 360.0,220.0 360.0,220.0\" opacity=\"0.8\" /><polyline fill=\"none\" stroke=\"#66cc99\" stroke-width=\"2.0880000000000005\" points=\"410.0,150.0 410.0,150.0 400.0,140.0 410.0,140.0 410.0,140.0 410.0,140.0 430.0,140.0 430.0,140.0 430.0,140.0 430.0,140.0 430.0,140.0 430.0,140.0 430.0,140.0 420.0,130.0 420.0,130.0 410.0,140.0 410.0,140.0 410.0,140.0 410.0,140.0 410.0,140.0 410.0,140.0 400.0,140.0 400.0,140.0 400.0,140.0 400.0,140.0 400.0,150.0 400.0,150.0 400.0,150.0\" opacity=\"0.8\" /><polyline fill=\"none\" stroke=\"#66cc99\" stroke-width=\"2.0880000000000005\" points=\"430.0,190.0 430.0,190.0 430.0,190.0 430.0,190.0 430.0,190.0 430.0,190.0 440.0,190.0 440.0,190.0 440.0,190.0 450.0,190.0 450.0,190.0 460.0,190.0 460.0,190.0 460.0,190.0 460.0,180.0 460.0,180.0 460.0,180.0 460.0,180.0 460.0,180.0 460.0,190.0 460.0,190.0 460.0,190.0 460.0,190.0 460.0,190.0 460.0,190.0 460.0,190.0 450.0,200.0 450.0,200.0 450.0,200.0 450.0,200.0 440.0,200.0 440.0,200.0 440.0,200.0 430.0,200.0 430.0,190.0 430.0,190.0\" opacity=\"0.8\" /><polyline fill=\"none\" stroke=\"#66cc99\" stroke-width=\"2.0880000000000005\" points=\"410.0,160.0 410.0,160.0 400.0,160.0 390.0,160.0 390.0,160.0 390.0,160.0 390.0,160.0 390.0,160.0 390.0,160.0 390.0,160.0 390.0,160.0 400.0,170.0 400.0,170.0 400.0,170.0 400.0,170.0 410.0,170.0 410.0,170.0 410.0,160.0 410.0,160.0 410.0,160.0 410.0,160.0 400.0,160.0 400.0,160.0 400.0,160.0\" opacity=\"0.8\" /><polyline fill=\"none\" stroke=\"#66cc99\" stroke-width=\"2.0880000000000005\" points=\"420.0,180.0 420.0,180.0 420.0,180.0 420.0,190.0 420.0,190.0 420.0,190.0 420.0,180.0 420.0,180.0 420.0,180.0 420.0,180.0 420.0,180.0 420.0,180.0\" opacity=\"0.8\" /></g></g></svg>"
      ],
      "text/plain": [
       "<MULTILINESTRING ((320 190, 320 190, 310 190, 310 190, 310 190, 310 190, 300...>"
      ]
     },
     "execution_count": 11,
     "metadata": {},
     "output_type": "execute_result"
    }
   ],
   "source": [
    "DEBUG = shapely.MultiLineString(line_strings)\n",
    "DEBUG"
   ]
  },
  {
   "cell_type": "code",
   "execution_count": 12,
   "id": "b7b14631",
   "metadata": {},
   "outputs": [
    {
     "data": {
      "image/svg+xml": [
       "<svg xmlns=\"http://www.w3.org/2000/svg\" xmlns:xlink=\"http://www.w3.org/1999/xlink\" width=\"300\" height=\"253.20000000000002\" viewBox=\"158.4 98.4 313.20000000000005 253.20000000000002\" preserveAspectRatio=\"xMinYMin meet\"><g transform=\"matrix(1,0,0,-1,0,450.0)\"><g><path fill-rule=\"evenodd\" fill=\"#ff3333\" stroke=\"#555555\" stroke-width=\"2.0880000000000005\" opacity=\"0.6\" d=\"M 300.0,190.0 L 295.0,195.0 L 300.0,200.0 L 300.0,190.0 z\" /><path fill-rule=\"evenodd\" fill=\"#ff3333\" stroke=\"#555555\" stroke-width=\"2.0880000000000005\" opacity=\"0.6\" d=\"M 290.0,180.0 L 290.0,190.0 L 300.0,200.0 L 300.0,180.0 L 290.0,180.0 z\" /><path fill-rule=\"evenodd\" fill=\"#ff3333\" stroke=\"#555555\" stroke-width=\"2.0880000000000005\" opacity=\"0.6\" d=\"M 260.0,220.0 L 260.0,230.0 L 270.0,220.0 L 260.0,220.0 z\" /><path fill-rule=\"evenodd\" fill=\"#ff3333\" stroke=\"#555555\" stroke-width=\"2.0880000000000005\" opacity=\"0.6\" d=\"M 360.0,220.0 L 360.0,230.0 L 380.0,230.0 L 360.0,220.0 z\" /><path fill-rule=\"evenodd\" fill=\"#ff3333\" stroke=\"#555555\" stroke-width=\"2.0880000000000005\" opacity=\"0.6\" d=\"M 310.0,180.0 L 260.0,230.0 L 260.0,240.0 L 290.0,260.0 L 310.0,260.0 L 330.0,250.0 L 360.0,230.0 L 360.0,190.0 L 340.0,180.0 L 310.0,180.0 z\" /><path fill-rule=\"evenodd\" fill=\"#ff3333\" stroke=\"#555555\" stroke-width=\"2.0880000000000005\" opacity=\"0.6\" d=\"M 330.0,170.0 L 330.0,190.0 L 340.0,190.0 L 330.0,170.0 z\" /><path fill-rule=\"evenodd\" fill=\"#ff3333\" stroke=\"#555555\" stroke-width=\"2.0880000000000005\" opacity=\"0.6\" d=\"M 330.0,170.0 L 330.0,180.0 L 340.0,180.0 L 330.0,170.0 z\" /><path fill-rule=\"evenodd\" fill=\"#ff3333\" stroke=\"#555555\" stroke-width=\"2.0880000000000005\" opacity=\"0.6\" d=\"M 400.0,150.0 L 400.0,160.0 L 410.0,160.0 L 400.0,150.0 z\" /><path fill-rule=\"evenodd\" fill=\"#ff3333\" stroke=\"#555555\" stroke-width=\"2.0880000000000005\" opacity=\"0.6\" d=\"M 390.0,160.0 L 400.0,170.0 L 410.0,170.0 L 410.0,160.0 L 390.0,160.0 z\" /><path fill-rule=\"evenodd\" fill=\"#ff3333\" stroke=\"#555555\" stroke-width=\"2.0880000000000005\" opacity=\"0.6\" d=\"M 360.0,160.0 L 350.0,170.0 L 350.0,180.0 L 360.0,200.0 L 370.0,210.0 L 400.0,210.0 L 420.0,200.0 L 430.0,190.0 L 430.0,160.0 L 360.0,160.0 z\" /><path fill-rule=\"evenodd\" fill=\"#ff3333\" stroke=\"#555555\" stroke-width=\"2.0880000000000005\" opacity=\"0.6\" d=\"M 250.0,220.0 L 220.0,230.0 L 200.0,250.0 L 200.0,280.0 L 220.0,290.0 L 270.0,290.0 L 280.0,280.0 L 290.0,260.0 L 250.0,220.0 z\" /><path fill-rule=\"evenodd\" fill=\"#ff3333\" stroke=\"#555555\" stroke-width=\"2.0880000000000005\" opacity=\"0.6\" d=\"M 170.0,200.0 L 170.0,210.0 L 210.0,210.0 L 220.0,200.0 L 170.0,200.0 z\" /><path fill-rule=\"evenodd\" fill=\"#ff3333\" stroke=\"#555555\" stroke-width=\"2.0880000000000005\" opacity=\"0.6\" d=\"M 220.0,200.0 L 260.0,220.0 L 270.0,220.0 L 270.0,210.0 L 260.0,200.0 L 220.0,200.0 z\" /><path fill-rule=\"evenodd\" fill=\"#ff3333\" stroke=\"#555555\" stroke-width=\"2.0880000000000005\" opacity=\"0.6\" d=\"M 290.0,260.0 L 280.0,320.0 L 280.0,340.0 L 310.0,330.0 L 320.0,300.0 L 320.0,270.0 L 310.0,260.0 L 290.0,260.0 z\" /><path fill-rule=\"evenodd\" fill=\"#ff3333\" stroke=\"#555555\" stroke-width=\"2.0880000000000005\" opacity=\"0.6\" d=\"M 220.0,150.0 L 260.0,170.0 L 280.0,170.0 L 240.0,150.0 L 220.0,150.0 z\" /><path fill-rule=\"evenodd\" fill=\"#ff3333\" stroke=\"#555555\" stroke-width=\"2.0880000000000005\" opacity=\"0.6\" d=\"M 320.0,130.0 L 320.0,150.0 L 330.0,160.0 L 320.0,130.0 z\" /><path fill-rule=\"evenodd\" fill=\"#ff3333\" stroke=\"#555555\" stroke-width=\"2.0880000000000005\" opacity=\"0.6\" d=\"M 320.0,110.0 L 320.0,130.0 L 330.0,120.0 L 330.0,110.0 L 320.0,110.0 z\" /><path fill-rule=\"evenodd\" fill=\"#ff3333\" stroke=\"#555555\" stroke-width=\"2.0880000000000005\" opacity=\"0.6\" d=\"M 380.0,230.0 L 380.0,240.0 L 440.0,240.0 L 440.0,230.0 L 380.0,230.0 z\" /><path fill-rule=\"evenodd\" fill=\"#ff3333\" stroke=\"#555555\" stroke-width=\"2.0880000000000005\" opacity=\"0.6\" d=\"M 420.0,130.0 L 410.0,140.0 L 430.0,140.0 L 420.0,130.0 z\" /><path fill-rule=\"evenodd\" fill=\"#ff3333\" stroke=\"#555555\" stroke-width=\"2.0880000000000005\" opacity=\"0.6\" d=\"M 430.0,190.0 L 430.0,200.0 L 450.0,200.0 L 460.0,190.0 L 430.0,190.0 z\" /><path fill-rule=\"evenodd\" fill=\"#ff3333\" stroke=\"#555555\" stroke-width=\"2.0880000000000005\" opacity=\"0.6\" d=\"M 370.0,300.0 L 360.0,310.0 L 370.0,310.0 L 370.0,300.0 z\" /><path fill-rule=\"evenodd\" fill=\"#ff3333\" stroke=\"#555555\" stroke-width=\"2.0880000000000005\" opacity=\"0.6\" d=\"M 350.0,240.0 L 340.0,250.0 L 350.0,260.0 L 360.0,260.0 L 360.0,250.0 L 350.0,240.0 z\" /><path fill-rule=\"evenodd\" fill=\"#ff3333\" stroke=\"#555555\" stroke-width=\"2.0880000000000005\" opacity=\"0.6\" d=\"M 360.0,260.0 L 360.0,280.0 L 370.0,280.0 L 370.0,270.0 L 360.0,260.0 z\" /></g></g></svg>"
      ],
      "text/plain": [
       "<MULTIPOLYGON (((300 190, 295 195, 300 200, 300 190)), ((290 180, 290 190, 3...>"
      ]
     },
     "execution_count": 12,
     "metadata": {},
     "output_type": "execute_result"
    }
   ],
   "source": [
    "polygons = get_polygons(line_strings)\n",
    "\n",
    "shapely.MultiPolygon(polygons)"
   ]
  },
  {
   "cell_type": "code",
   "execution_count": 13,
   "id": "97642351",
   "metadata": {},
   "outputs": [
    {
     "data": {
      "image/svg+xml": [
       "<svg xmlns=\"http://www.w3.org/2000/svg\" xmlns:xlink=\"http://www.w3.org/1999/xlink\" width=\"300\" height=\"263.20000000000005\" viewBox=\"158.4 88.4 313.20000000000005 263.20000000000005\" preserveAspectRatio=\"xMinYMin meet\"><g transform=\"matrix(1,0,0,-1,0,440.0)\"><g><path fill-rule=\"evenodd\" fill=\"#ff3333\" stroke=\"#555555\" stroke-width=\"2.0880000000000005\" opacity=\"0.6\" d=\"M 310.0,180.0 L 260.0,220.0 L 260.0,240.0 L 290.0,260.0 L 310.0,260.0 L 330.0,250.0 L 360.0,230.0 L 360.0,190.0 L 340.0,180.0 L 310.0,180.0 z\" /><path fill-rule=\"evenodd\" fill=\"#ff3333\" stroke=\"#555555\" stroke-width=\"2.0880000000000005\" opacity=\"0.6\" d=\"M 400.0,150.0 L 360.0,160.0 L 350.0,170.0 L 350.0,180.0 L 360.0,200.0 L 370.0,210.0 L 400.0,210.0 L 420.0,200.0 L 430.0,190.0 L 430.0,160.0 L 400.0,150.0 z\" /><path fill-rule=\"evenodd\" fill=\"#ff3333\" stroke=\"#555555\" stroke-width=\"2.0880000000000005\" opacity=\"0.6\" d=\"M 250.0,220.0 L 220.0,230.0 L 200.0,250.0 L 200.0,280.0 L 220.0,290.0 L 270.0,290.0 L 280.0,280.0 L 290.0,260.0 L 250.0,220.0 z\" /><path fill-rule=\"evenodd\" fill=\"#ff3333\" stroke=\"#555555\" stroke-width=\"2.0880000000000005\" opacity=\"0.6\" d=\"M 170.0,200.0 L 170.0,210.0 L 260.0,230.0 L 270.0,220.0 L 270.0,210.0 L 260.0,200.0 L 170.0,200.0 z\" /><path fill-rule=\"evenodd\" fill=\"#ff3333\" stroke=\"#555555\" stroke-width=\"2.0880000000000005\" opacity=\"0.6\" d=\"M 290.0,260.0 L 280.0,320.0 L 280.0,340.0 L 310.0,330.0 L 320.0,300.0 L 320.0,270.0 L 310.0,260.0 L 290.0,260.0 z\" /><path fill-rule=\"evenodd\" fill=\"#ff3333\" stroke=\"#555555\" stroke-width=\"2.0880000000000005\" opacity=\"0.6\" d=\"M 220.0,150.0 L 300.0,200.0 L 300.0,180.0 L 240.0,150.0 L 220.0,150.0 z\" /><path fill-rule=\"evenodd\" fill=\"#ff3333\" stroke=\"#555555\" stroke-width=\"2.0880000000000005\" opacity=\"0.6\" d=\"M 350.0,240.0 L 340.0,250.0 L 360.0,310.0 L 370.0,310.0 L 370.0,270.0 L 360.0,250.0 L 350.0,240.0 z\" /><path fill-rule=\"evenodd\" fill=\"#ff3333\" stroke=\"#555555\" stroke-width=\"2.0880000000000005\" opacity=\"0.6\" d=\"M 330.0,100.0 L 320.0,110.0 L 320.0,150.0 L 330.0,190.0 L 340.0,190.0 L 330.0,100.0 z\" /><path fill-rule=\"evenodd\" fill=\"#ff3333\" stroke=\"#555555\" stroke-width=\"2.0880000000000005\" opacity=\"0.6\" d=\"M 360.0,220.0 L 360.0,230.0 L 380.0,240.0 L 440.0,240.0 L 440.0,230.0 L 360.0,220.0 z\" /><path fill-rule=\"evenodd\" fill=\"#ff3333\" stroke=\"#555555\" stroke-width=\"2.0880000000000005\" opacity=\"0.6\" d=\"M 420.0,130.0 L 400.0,140.0 L 400.0,150.0 L 410.0,150.0 L 430.0,140.0 L 420.0,130.0 z\" /><path fill-rule=\"evenodd\" fill=\"#ff3333\" stroke=\"#555555\" stroke-width=\"2.0880000000000005\" opacity=\"0.6\" d=\"M 460.0,180.0 L 430.0,190.0 L 430.0,200.0 L 450.0,200.0 L 460.0,190.0 L 460.0,180.0 z\" /><path fill-rule=\"evenodd\" fill=\"#ff3333\" stroke=\"#555555\" stroke-width=\"2.0880000000000005\" opacity=\"0.6\" d=\"M 390.0,160.0 L 400.0,170.0 L 410.0,170.0 L 410.0,160.0 L 390.0,160.0 z\" /></g></g></svg>"
      ],
      "text/plain": [
       "<MULTIPOLYGON (((310 180, 260 220, 260 240, 290 260, 310 260, 330 250, 360 2...>"
      ]
     },
     "execution_count": 13,
     "metadata": {},
     "output_type": "execute_result"
    }
   ],
   "source": [
    "hulls = get_hulls(line_strings)\n",
    "\n",
    "s = shapely.MultiPolygon(hulls)\n",
    "s"
   ]
  },
  {
   "cell_type": "markdown",
   "id": "afcfd5de",
   "metadata": {},
   "source": [
    "### EXTRACTION"
   ]
  },
  {
   "cell_type": "code",
   "execution_count": null,
   "id": "d4dfe9c7",
   "metadata": {},
   "outputs": [],
   "source": [
    "svg = load('assets/svg/ant/279.svg')\n",
    "display(svg)"
   ]
  },
  {
   "cell_type": "code",
   "execution_count": null,
   "id": "5f836333",
   "metadata": {},
   "outputs": [],
   "source": [
    "G = extract_graph(svg, 'ant')\n",
    "plot_graph(G)"
   ]
  },
  {
   "cell_type": "markdown",
   "id": "10d00714",
   "metadata": {},
   "source": [
    "# DATABASE"
   ]
  },
  {
   "cell_type": "markdown",
   "id": "fd2b478c",
   "metadata": {},
   "source": [
    "## Offline graph extraction"
   ]
  },
  {
   "cell_type": "code",
   "execution_count": null,
   "id": "9bb6c865",
   "metadata": {},
   "outputs": [],
   "source": [
    "# # Extract graphs for each sketch in the dataset, offline processing step\n",
    "\n",
    "# paths = get_files()\n",
    "# print(len(paths))\n",
    "\n",
    "# images = load_images(paths)\n",
    "\n",
    "# graphs = extract_graphs(images)\n",
    "# print(len(graphs))\n",
    "\n",
    "# # Dump the graphs to avoid this offline step later\n",
    "# dump_graphs(graphs)"
   ]
  },
  {
   "cell_type": "code",
   "execution_count": null,
   "id": "701554b4",
   "metadata": {},
   "outputs": [],
   "source": [
    "# Load graphs from disk\n",
    "graphs = load_graphs()\n",
    "\n",
    "len(graphs)"
   ]
  },
  {
   "cell_type": "markdown",
   "id": "d125e8ea",
   "metadata": {},
   "source": [
    "## DIMENSIONALITY REDUCTION"
   ]
  },
  {
   "cell_type": "code",
   "execution_count": null,
   "id": "d605da1e",
   "metadata": {},
   "outputs": [],
   "source": [
    "# Check the statistics for number of nodes\n",
    "\n",
    "n = [len(g.nodes) for g in graphs]\n",
    "\n",
    "fig = plt.figure()\n",
    "\n",
    "# hist = np.histogram(n, bins=range(170))\n",
    "\n",
    "plt.hist(n, bins=170) #, density=True)\n",
    "\n",
    "plt.xticks(np.arange(0, 170, step=10))\n",
    "\n",
    "print('max: ', max(n))\n",
    "print('min: ', min(n))\n",
    "print('99% percentile: ', np.percentile(n, 99))"
   ]
  },
  {
   "cell_type": "code",
   "execution_count": null,
   "id": "cb057061",
   "metadata": {},
   "outputs": [],
   "source": [
    "# Check the statistics for number of edges\n",
    "\n",
    "e = [len(g.edges) for g in graphs]\n",
    "\n",
    "# hist = np.histogram(e, bins=range(170))\n",
    "\n",
    "fig = plt.figure()\n",
    "\n",
    "plt.hist(e, bins=400) #, density=True)\n",
    "\n",
    "plt.xticks(np.arange(0, 400, step=30))\n",
    "\n",
    "print('max: ', max(e))\n",
    "print('min: ', min(e))\n",
    "print('99% percentile: ', np.percentile(e, 99))"
   ]
  },
  {
   "cell_type": "code",
   "execution_count": null,
   "id": "8a1ad672",
   "metadata": {},
   "outputs": [],
   "source": [
    "# Check descriptor collisions for a given descriptor length\n",
    "\n",
    "maximum = max(n)\n",
    "\n",
    "print('100th percentile (maximum): ', maximum )\n",
    "\n",
    "descriptors_max = [descriptor(g, N=maximum).tobytes() for g in graphs]\n",
    "\n",
    "c_max = Counter(descriptors_max)\n",
    "\n",
    "print('Unique descriptors: ', list(c_max.values()).count(1))\n",
    "\n",
    "[(np.frombuffer(d, dtype=float), c) for d, c in c_max.most_common()]"
   ]
  },
  {
   "cell_type": "code",
   "execution_count": null,
   "id": "282017c2",
   "metadata": {},
   "outputs": [],
   "source": [
    "# Check descriptor collisions for a given descriptor length\n",
    "\n",
    "percent = 58\n",
    "\n",
    "percentile = int(np.percentile(n,percent))\n",
    "\n",
    "print(f'{percent}th percentile: ', percentile)\n",
    "\n",
    "descriptors = [descriptor(g, N=percentile).tobytes() for g in graphs]\n",
    "\n",
    "c_percentile = Counter(descriptors)\n",
    "\n",
    "print('Unique descriptors: ', list(c_percentile.values()).count(1))\n",
    "\n",
    "[(np.frombuffer(d, dtype=float), c) for d, c in c_percentile.most_common()]"
   ]
  },
  {
   "cell_type": "code",
   "execution_count": null,
   "id": "6c12c3aa",
   "metadata": {},
   "outputs": [],
   "source": [
    "unique_graphs = {d : g for g, d in zip(graphs, descriptors) if (count := c_percentile[d]) == 1}\n",
    "\n",
    "print(len(unique_graphs))\n",
    "\n",
    "c = Counter(map(lambda g: g.graph['label'], unique_graphs.values()))\n",
    "print(len(c))\n",
    "\n",
    "# plt.figure(figsize=(100,100))\n",
    "\n",
    "# plt.bar(c.keys(), c.values(), orientation='horizontal')\n",
    "\n",
    "# plt.show()\n",
    "\n",
    "# c"
   ]
  },
  {
   "cell_type": "code",
   "execution_count": null,
   "id": "bbdee7aa",
   "metadata": {},
   "outputs": [],
   "source": [
    "# Check the statistics of each label (plots histograms of deperecated index).\n",
    "\n",
    "def plot_hist(graphs):\n",
    "    results = defaultdict(list)\n",
    "\n",
    "    for g in graphs: \n",
    "        results[g.graph['label']].append(index(g))\n",
    "\n",
    "    fig = plt.figure()\n",
    "    fig, axs = plt.subplots(len(results), 1, figsize=(14,800))\n",
    "    \n",
    "    for i, k in enumerate(results):\n",
    "        plt.subplot(len(results), 1, i+1)\n",
    "        \n",
    "        axs[i].title.set_text(k)\n",
    "        axs[i].hist(results[k], bins=100)\n",
    "\n",
    "    plt.axis('off')\n",
    "\n",
    "    plt.show()"
   ]
  },
  {
   "cell_type": "code",
   "execution_count": null,
   "id": "530de99f",
   "metadata": {},
   "outputs": [],
   "source": [
    "# plot_hist(graphs)"
   ]
  },
  {
   "cell_type": "markdown",
   "id": "789a1ba1",
   "metadata": {},
   "source": [
    "### Dump unique graphs with no descriptor collisions"
   ]
  },
  {
   "cell_type": "code",
   "execution_count": null,
   "id": "010d4d6c",
   "metadata": {},
   "outputs": [],
   "source": [
    "dump_graphs(unique_graphs, prefix=\"unique_\")"
   ]
  },
  {
   "cell_type": "markdown",
   "id": "d8f6a5fa",
   "metadata": {},
   "source": [
    "## Database construction"
   ]
  },
  {
   "cell_type": "markdown",
   "id": "eb9989b4",
   "metadata": {},
   "source": [
    "### In-memory KD-tree for KNN descriptor queries"
   ]
  },
  {
   "cell_type": "code",
   "execution_count": null,
   "id": "e76550e6",
   "metadata": {},
   "outputs": [],
   "source": [
    "DESCRIPTOR_DIMENSION = 11"
   ]
  },
  {
   "cell_type": "code",
   "execution_count": null,
   "id": "c52b0c09",
   "metadata": {},
   "outputs": [],
   "source": [
    "unique_graphs = load_graphs(prefix=\"unique_\")\n",
    "assert isinstance(unique_graphs, dict) "
   ]
  },
  {
   "cell_type": "code",
   "execution_count": null,
   "id": "1f662125",
   "metadata": {},
   "outputs": [],
   "source": [
    "descriptors = np.array([np.frombuffer(d, dtype=float) for d in unique_graphs.keys()])\n",
    "\n",
    "print(descriptors.shape)\n",
    "descriptors"
   ]
  },
  {
   "cell_type": "code",
   "execution_count": null,
   "id": "95a49b53",
   "metadata": {},
   "outputs": [],
   "source": [
    "# Build kd-tree\n",
    "kd_tree = KDTree(descriptors)"
   ]
  },
  {
   "cell_type": "code",
   "execution_count": null,
   "id": "7934fab9",
   "metadata": {},
   "outputs": [],
   "source": [
    "# Load graph from query image\n",
    "svg = load('assets/svg/ant/270.svg')\n",
    "display(svg)"
   ]
  },
  {
   "cell_type": "code",
   "execution_count": null,
   "id": "abcad262",
   "metadata": {},
   "outputs": [],
   "source": [
    "# Test query\n",
    "query = extract_graph(svg, 'ant')\n",
    "plot_graph(query)\n",
    "\n",
    "#serialize_graph(query)"
   ]
  },
  {
   "cell_type": "code",
   "execution_count": null,
   "id": "78216fc7",
   "metadata": {},
   "outputs": [],
   "source": [
    "# # Get query descriptor\n",
    "# d = descriptor(query, N=DESCRIPTOR_DIMENSION)\n",
    "# print(d)\n",
    "\n",
    "# # Query KD-tree\n",
    "# dd, ii = kd_tree.query(d, k=100)\n",
    "\n",
    "# # Plot KNN\n",
    "# for i in ii:\n",
    "#     g = unique_graphs[descriptors[i].tobytes()]\n",
    "#     plot_graph(g)\n",
    "# # display(load(g.graph['filename']))"
   ]
  },
  {
   "cell_type": "markdown",
   "id": "36d5b31f",
   "metadata": {},
   "source": [
    "### Disk B+-tree mapping descriptors to graph data"
   ]
  },
  {
   "cell_type": "code",
   "execution_count": null,
   "id": "22a01647",
   "metadata": {},
   "outputs": [],
   "source": [
    "# Construct database for online use\n",
    "db = construct_database(unique_graphs.values())"
   ]
  },
  {
   "cell_type": "code",
   "execution_count": null,
   "id": "3bb15d6c",
   "metadata": {},
   "outputs": [],
   "source": [
    "# Test query\n",
    "svg = load('assets/svg/ant/279.svg')\n",
    "\n",
    "query = extract_graph(svg, 'ant')\n",
    "plot_graph(query)\n",
    "\n",
    "print(descriptor(query))\n",
    "\n",
    "candidates = query_database(db, query)\n",
    "print(candidates, \"\\n\")"
   ]
  },
  {
   "cell_type": "code",
   "execution_count": null,
   "id": "84f91ac4",
   "metadata": {},
   "outputs": [],
   "source": [
    "db.close()"
   ]
  },
  {
   "cell_type": "code",
   "execution_count": null,
   "id": "742dcd1c",
   "metadata": {},
   "outputs": [],
   "source": [
    "# Reopen database\n",
    "\n",
    "db = open_database()\n",
    "candidates = query_database(db, query)\n",
    "db.close()\n",
    "\n",
    "candidates"
   ]
  },
  {
   "cell_type": "markdown",
   "id": "ed381425",
   "metadata": {},
   "source": [
    "# GRAPH MATCHING"
   ]
  },
  {
   "cell_type": "code",
   "execution_count": null,
   "id": "1cb0f0bf",
   "metadata": {},
   "outputs": [],
   "source": [
    "G = nx.tutte_graph()\n",
    "G.graph['positions'] = nx.spring_layout(G)"
   ]
  },
  {
   "cell_type": "code",
   "execution_count": null,
   "id": "362be9f8",
   "metadata": {},
   "outputs": [],
   "source": [
    "nx.draw(G, pos=G.graph['positions'])"
   ]
  },
  {
   "cell_type": "code",
   "execution_count": null,
   "id": "422a56a0",
   "metadata": {},
   "outputs": [],
   "source": [
    "ax1 = plt.subplot(1, 2, 1)\n",
    "plot_graph(G)\n",
    "\n",
    "ax2 = plt.subplot(1, 2, 2)\n",
    "plot_graph(G)"
   ]
  },
  {
   "cell_type": "code",
   "execution_count": null,
   "id": "3355a176",
   "metadata": {},
   "outputs": [],
   "source": [
    "X = match(G, G)\n",
    "print(X.shape)\n",
    "X"
   ]
  },
  {
   "cell_type": "code",
   "execution_count": null,
   "id": "bbf68cb5",
   "metadata": {},
   "outputs": [],
   "source": [
    "plot_mapping(X, G, G)"
   ]
  }
 ],
 "metadata": {
  "kernelspec": {
   "display_name": "Python 3 (ipykernel)",
   "language": "python",
   "name": "python3"
  },
  "language_info": {
   "codemirror_mode": {
    "name": "ipython",
    "version": 3
   },
   "file_extension": ".py",
   "mimetype": "text/x-python",
   "name": "python",
   "nbconvert_exporter": "python",
   "pygments_lexer": "ipython3",
   "version": "3.9.7"
  }
 },
 "nbformat": 4,
 "nbformat_minor": 5
}
