{
 "cells": [
  {
   "cell_type": "code",
   "execution_count": null,
   "metadata": {},
   "outputs": [],
   "source": [
    "from src.svg import *\n",
    "from src.extraction import *\n",
    "from src.database import *\n",
    "from src.labels import LABELS\n",
    "from src.vision import *\n",
    "from src.matching import *"
   ]
  },
  {
   "attachments": {},
   "cell_type": "markdown",
   "metadata": {},
   "source": [
    "# Evaluation"
   ]
  },
  {
   "cell_type": "code",
   "execution_count": null,
   "metadata": {},
   "outputs": [],
   "source": [
    "IMAGE_DIRECTORY = os.sep.join(['assets', 'svg'])\n",
    "\n",
    "def load_first_svg_files(ext='svg'):\n",
    "    \"\"\"\n",
    "    Returns an iterator that yields the image file paths and their labels.\n",
    "    \"\"\"    \n",
    "    files = []\n",
    "    \n",
    "    dirs = next(os.walk(IMAGE_DIRECTORY))[1]\n",
    "    for d in dirs:\n",
    "        dir_path = os.path.join(IMAGE_DIRECTORY, d)\n",
    "        \n",
    "        for i in range(5):\n",
    "            file = os.listdir(dir_path)[i]\n",
    "            file = os.path.join(dir_path, file)\n",
    "\n",
    "            files.append((file, d))\n",
    "                \n",
    "    return files\n",
    "\n",
    "def extract_graphs(images, step=20):\n",
    "    \"\"\"\n",
    "    Extract all graphs from given images.\n",
    "    \"\"\"\n",
    "    i = 0\n",
    "    graphs = []\n",
    "    for img, l in images:\n",
    "        cp = map(to_control_points,img['paths'])\n",
    "        \n",
    "        try:\n",
    "            graphs.append(extract_graph(cp, l, step=step, check_area=False))\n",
    "        except StopIteration:\n",
    "            print('drawing was too small')\n",
    "        \n",
    "        print(i)\n",
    "        i += 1\n",
    "        \n",
    "    return graphs"
   ]
  },
  {
   "cell_type": "code",
   "execution_count": null,
   "metadata": {},
   "outputs": [],
   "source": [
    "paths = load_first_svg_files()\n",
    "print(len(paths))\n",
    "\n",
    "images = load_svg_images(paths)\n",
    "\n",
    "graphs = extract_graphs(images, step=20)\n",
    "print(len(graphs))\n",
    "\n",
    "db = open_database()"
   ]
  },
  {
   "cell_type": "code",
   "execution_count": null,
   "metadata": {},
   "outputs": [],
   "source": [
    "dists = []\n",
    "\n",
    "for i, query in enumerate(graphs):\n",
    "    key = descriptor(query, N=DESCRIPTOR_SIZE)\n",
    "    print(key)\n",
    "\n",
    "    dist = query_database(db, query)\n",
    "\n",
    "    dists.append(dist)\n",
    "\n",
    "    i = np.argmax(dist)\n",
    "    print(LABELS[i])\n",
    "\n",
    "    # # Figure Size\n",
    "    # fig = plt.figure()\n",
    "\n",
    "    # plt.suptitle(f\"file: {paths[i]}\\nargmax: {LABELS[i]}\")\n",
    "    \n",
    "    # # Horizontal Bar Plot\n",
    "    # plt.bar(range(len(LABELS)), dist)\n",
    "    # plt.xticks(range(0, len(LABELS), len(LABELS)//10))\n",
    "\n",
    "    # plt.show()\n",
    "\n",
    "close_database(db)"
   ]
  }
 ],
 "metadata": {
  "language_info": {
   "name": "python"
  },
  "orig_nbformat": 4
 },
 "nbformat": 4,
 "nbformat_minor": 2
}
