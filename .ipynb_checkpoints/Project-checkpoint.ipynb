{
 "cells": [
  {
   "cell_type": "code",
   "execution_count": 1,
   "id": "0d02bd4d",
   "metadata": {},
   "outputs": [
    {
     "name": "stdout",
     "output_type": "stream",
     "text": [
      "Requirement already satisfied: opencv-python in d:\\anaconda\\lib\\site-packages (4.7.0.72)\n",
      "Requirement already satisfied: pygmtools in d:\\anaconda\\lib\\site-packages (0.3.6)\n",
      "Requirement already satisfied: numpy in d:\\anaconda\\lib\\site-packages (1.20.3)\n",
      "Requirement already satisfied: scipy in d:\\anaconda\\lib\\site-packages (1.7.1)\n",
      "Requirement already satisfied: networkx in d:\\anaconda\\lib\\site-packages (2.6.3)\n",
      "Requirement already satisfied: pandas in d:\\anaconda\\lib\\site-packages (1.3.4)\n",
      "Requirement already satisfied: shapely in d:\\anaconda\\lib\\site-packages (2.0.1)\n",
      "Requirement already satisfied: bplustree in d:\\anaconda\\lib\\site-packages (0.0.3)\n",
      "Requirement already satisfied: svgpathtools in d:\\anaconda\\lib\\site-packages (1.6.0)\n",
      "Collecting drawsvg\n",
      "  Downloading drawsvg-2.1.1-py3-none-any.whl (43 kB)\n",
      "Requirement already satisfied: requests>=2.25.1 in d:\\anaconda\\lib\\site-packages (from pygmtools) (2.26.0)\n",
      "Requirement already satisfied: easydict>=1.7 in d:\\anaconda\\lib\\site-packages (from pygmtools) (1.10)\n",
      "Requirement already satisfied: appdirs>=1.4.4 in d:\\anaconda\\lib\\site-packages (from pygmtools) (1.4.4)\n",
      "Requirement already satisfied: Pillow>=7.2.0 in d:\\anaconda\\lib\\site-packages (from pygmtools) (8.4.0)\n",
      "Requirement already satisfied: tqdm>=4.64.1 in d:\\anaconda\\lib\\site-packages (from pygmtools) (4.65.0)\n",
      "Requirement already satisfied: wget>=3.2 in d:\\anaconda\\lib\\site-packages (from pygmtools) (3.2)\n",
      "Requirement already satisfied: python-dateutil>=2.7.3 in d:\\anaconda\\lib\\site-packages (from pandas) (2.8.2)\n",
      "Requirement already satisfied: pytz>=2017.3 in d:\\anaconda\\lib\\site-packages (from pandas) (2021.3)\n",
      "Requirement already satisfied: cachetools in d:\\anaconda\\lib\\site-packages (from bplustree) (5.3.0)\n",
      "Requirement already satisfied: rwlock in d:\\anaconda\\lib\\site-packages (from bplustree) (0.0.7)\n",
      "Requirement already satisfied: svgwrite in d:\\anaconda\\lib\\site-packages (from svgpathtools) (1.4.3)\n",
      "Requirement already satisfied: six>=1.5 in d:\\anaconda\\lib\\site-packages (from python-dateutil>=2.7.3->pandas) (1.16.0)\n",
      "Requirement already satisfied: idna<4,>=2.5 in d:\\anaconda\\lib\\site-packages (from requests>=2.25.1->pygmtools) (3.2)\n",
      "Requirement already satisfied: charset-normalizer~=2.0.0 in d:\\anaconda\\lib\\site-packages (from requests>=2.25.1->pygmtools) (2.0.4)\n",
      "Requirement already satisfied: certifi>=2017.4.17 in d:\\anaconda\\lib\\site-packages (from requests>=2.25.1->pygmtools) (2021.10.8)\n",
      "Requirement already satisfied: urllib3<1.27,>=1.21.1 in d:\\anaconda\\lib\\site-packages (from requests>=2.25.1->pygmtools) (1.26.7)\n",
      "Requirement already satisfied: colorama in d:\\anaconda\\lib\\site-packages (from tqdm>=4.64.1->pygmtools) (0.4.4)\n",
      "Installing collected packages: drawsvg\n",
      "Successfully installed drawsvg-2.1.1\n"
     ]
    }
   ],
   "source": [
    "!pip install opencv-python pygmtools numpy scipy networkx pandas shapely bplustree svgpathtools drawsvg"
   ]
  },
  {
   "cell_type": "code",
   "execution_count": 8,
   "id": "9bc99d2d",
   "metadata": {},
   "outputs": [],
   "source": [
    "import pandas as pd\n",
    "\n",
    "import numpy as np\n",
    "\n",
    "import scipy as sc\n",
    "import scipy.io as scio # for loading .mat file\n",
    "from scipy import linalg\n",
    "\n",
    "from sklearn.decomposition import PCA as PCAdimReduc\n",
    "from sklearn.feature_extraction import DictVectorizer\n",
    "\n",
    "import networkx as nx\n",
    "\n",
    "import pygmtools as pygm\n",
    "\n",
    "import matplotlib.pyplot as plt\n",
    "from matplotlib.patches import ConnectionPatch\n",
    "\n",
    "import cv2\n",
    "\n",
    "import shapely\n",
    "\n",
    "import svgpathtools\n",
    "import drawsvg as draw\n",
    "\n",
    "from bplustree import BPlusTree\n",
    "from bplustree.serializer import Serializer\n",
    "\n",
    "import pickle\n",
    "\n",
    "from xml.dom import minidom\n",
    "\n",
    "import functools\n",
    "from itertools import product\n",
    "from typing import Optional, Tuple, List\n",
    "from collections import Counter\n",
    "\n",
    "import struct\n",
    "\n",
    "import os\n",
    "import sys\n",
    "\n",
    "import random\n",
    "\n",
    "pygm.BACKEND = 'numpy' # set numpy as backend for pygmtools"
   ]
  },
  {
   "cell_type": "markdown",
   "id": "c502a422",
   "metadata": {},
   "source": [
    "# TOPOLOGY GRAPH / GEOMETRY EXTRACTION"
   ]
  },
  {
   "cell_type": "markdown",
   "id": "a6b69589",
   "metadata": {},
   "source": [
    "### SVG HELPERS"
   ]
  },
  {
   "cell_type": "code",
   "execution_count": 28,
   "id": "b60b89a8",
   "metadata": {},
   "outputs": [],
   "source": [
    "def load(filename):\n",
    "    \"\"\"\n",
    "    Loads an svg image from the image library given its filename. \n",
    "    \"\"\"\n",
    "    doc = minidom.parse(filename)\n",
    "    \n",
    "    attribs = []\n",
    "    for item in doc.getElementsByTagName('g'):\n",
    "        attribs += [(a.name, a.value) for a in item.attributes.values()]\n",
    "    attribs = dict(attribs)\n",
    "    \n",
    "    path_strings = [svgpathtools.parse_path(path.getAttribute('d')) for path in doc.getElementsByTagName('path')]\n",
    "    \n",
    "    doc.unlink()\n",
    "    \n",
    "    return {'attrib': attribs, 'paths': path_strings}"
   ]
  },
  {
   "cell_type": "code",
   "execution_count": 126,
   "id": "ed56918e",
   "metadata": {},
   "outputs": [],
   "source": [
    "def display(img, text='test'):\n",
    "    \"\"\"\n",
    "    Displays a provided image to the user, and wait for any input. Used for debugging.\n",
    "    \n",
    "    See svg reference to implement svg commands:\n",
    "    https://developer.mozilla.org/en-US/docs/Web/SVG/Attribute/d\n",
    "    \"\"\"\n",
    "    def draw_curve(command, args, drawn_path):\n",
    "        if command == 'C':\n",
    "            drawn_path.C(*args)\n",
    "        elif command == 'L':\n",
    "            drawn_path.L(*args)\n",
    "            \n",
    "    def draw_text(args, d, i):\n",
    "        text = draw.Text(str(i), 8, args[0], args[1], fill='blue') # 8pt text\n",
    "        d.append(text)\n",
    "        \n",
    "    def draw_intersections(paths, current_index):\n",
    "        current_path = paths[current_index]\n",
    "        for i, path in enumerate(paths):\n",
    "            if i == current_index:\n",
    "                continue\n",
    "                \n",
    "            for (T1, seg1, t1), (T2, seg2, t2) in current_path.intersect(path):\n",
    "                point = current_path.point(T1)\n",
    "                d.append(draw.Circle(point.real, point.imag, 10, fill='red', stroke_width=2, stroke='black'))\n",
    "                d.append(draw.Text(str(current_index), 8, point.real-4, point.imag+3, fill='blue'))\n",
    "        \n",
    "    # Start canvas (hard coded to 800 by 800 in dataset)\n",
    "    d = draw.Drawing(800, 800) \n",
    "    \n",
    "    paths  = img['paths']\n",
    "    attrib = img['attrib']\n",
    "    \n",
    "    for i, p in enumerate(paths):\n",
    "        # Gets the d-string of the path\n",
    "        path_string = p.d()\n",
    "        \n",
    "        # Start drawing path\n",
    "        drawn_path = draw.Path(stroke_width=attrib['stroke-width'],\n",
    "                               stroke=attrib['stroke'],\n",
    "                               fill=attrib['fill'])\n",
    "        \n",
    "        coords = path_string.split()\n",
    "        \n",
    "        mx, my = coords[1].split(',')\n",
    "        drawn_path.M(float(mx), float(my))  # Start path at point (-10, -20)\n",
    "        \n",
    "        # Draw each curve comprising the path\n",
    "        command = ''\n",
    "        args = []\n",
    "        for c in coords[2:]:\n",
    "            if c in ['C', 'L']:\n",
    "                if not args:\n",
    "                    continue\n",
    "                    \n",
    "                draw_curve(command, args, drawn_path)\n",
    "                    \n",
    "                command = c\n",
    "                args.clear()\n",
    "                \n",
    "            elif len(c) > 1:\n",
    "                args += [float(m) for m in c.split(',')]\n",
    "                \n",
    "            else:\n",
    "                raise NotImplementedError(\"Unimplemented SVG command.\") \n",
    "\n",
    "        # Draw the curve\n",
    "        draw_curve(command, args, drawn_path)\n",
    "        d.append(drawn_path)\n",
    "        \n",
    "        # Draw the index of the path just drawn\n",
    "        draw_text(args, d, i)\n",
    "        \n",
    "        # Draw intersections with other paths\n",
    "#         draw_intersections(paths, i)\n",
    "    \n",
    "    \n",
    "    return d"
   ]
  },
  {
   "cell_type": "code",
   "execution_count": 364,
   "id": "5107bba3",
   "metadata": {},
   "outputs": [],
   "source": [
    "def to_control_points(path):\n",
    "    \"\"\"\n",
    "    Convert a path comprised of curves to an array of control points.\n",
    "    \"\"\"\n",
    "    points = [[(point.real, point.imag) for point in b.bpoints()] for b in path]\n",
    "    \n",
    "    return np.array(sum(points, []))"
   ]
  },
  {
   "cell_type": "code",
   "execution_count": 365,
   "id": "5f87fc56",
   "metadata": {},
   "outputs": [],
   "source": [
    "def snap_round(path_points, step=20):\n",
    "    \"\"\"\n",
    "    The snap round algorithm: line segments to a fixed precision grid.\n",
    "    \"\"\"\n",
    "    return (path_points//step)*step"
   ]
  },
  {
   "cell_type": "code",
   "execution_count": 366,
   "id": "9c0da84b",
   "metadata": {},
   "outputs": [],
   "source": [
    "def to_line_string(path_points):\n",
    "    \"\"\"\n",
    "    Converts a list of lists of control points to a shapely LineString\n",
    "    \"\"\"\n",
    "    return shapely.LineString(path_points)"
   ]
  },
  {
   "cell_type": "code",
   "execution_count": 424,
   "id": "aef0dc32",
   "metadata": {},
   "outputs": [],
   "source": [
    "def get_line_strings(paths):\n",
    "    \"\"\"\n",
    "    Converts the paths to line strings of line segments\n",
    "    \"\"\"\n",
    "    line_strings = []\n",
    "\n",
    "    for path in paths:\n",
    "        cp = to_control_points(path)\n",
    "\n",
    "        sp = snap_round(cp, step=20)\n",
    "        \n",
    "        ls = to_line_string(sp)\n",
    "\n",
    "        line_strings.append(ls)\n",
    "        \n",
    "    return line_strings"
   ]
  },
  {
   "cell_type": "code",
   "execution_count": 497,
   "id": "9cfaad8f",
   "metadata": {},
   "outputs": [],
   "source": [
    "def filter_linestrings(linestrings):\n",
    "    \"\"\"\n",
    "    Filter out all linestrings that are insignificant, implemented\n",
    "    as the length being smaller than a certain threshold, 400*2\n",
    "    \"\"\"\n",
    "    return [l for l in linestrings if l.length > 20*2]"
   ]
  },
  {
   "cell_type": "code",
   "execution_count": 492,
   "id": "50298dae",
   "metadata": {},
   "outputs": [],
   "source": [
    "def detect_polygons(line_strings):\n",
    "    \"\"\"\n",
    "    Detect polygons in the image, from each singular linestring.\n",
    "    \n",
    "    Compares the length of the linestring with the distance of the start and end points.\n",
    "    \"\"\"\n",
    "    pass"
   ]
  },
  {
   "cell_type": "code",
   "execution_count": 441,
   "id": "6674dc0c",
   "metadata": {},
   "outputs": [],
   "source": [
    "def get_centroids(line_strings):\n",
    "    \"\"\"\n",
    "    Get the centroids of a given line string.\n",
    "    \"\"\"\n",
    "    centroids = []\n",
    "    \n",
    "    for ls in line_strings:\n",
    "        c = ls.centroid\n",
    "        if ls.length > 0:\n",
    "            centroids.append(c)\n",
    "            \n",
    "    return centroids"
   ]
  },
  {
   "cell_type": "code",
   "execution_count": 456,
   "id": "3ef083e7",
   "metadata": {},
   "outputs": [],
   "source": [
    "def get_hulls(line_strings):\n",
    "    \"\"\"\n",
    "    Get the convex hulls of the given line strings.\n",
    "    \"\"\"\n",
    "    \n",
    "    hulls = []\n",
    "    \n",
    "    for ls in line_strings:\n",
    "        hull = ls.convex_hull\n",
    "        if ls.length > 0 and isinstance(hull, shapely.Polygon):\n",
    "            hulls.append(hull)\n",
    "            \n",
    "    return hulls"
   ]
  },
  {
   "cell_type": "code",
   "execution_count": 489,
   "id": "0c3f8e71",
   "metadata": {},
   "outputs": [],
   "source": [
    "def filter_polygons(polygons):\n",
    "    \"\"\"\n",
    "    Filter out all convex hulls that are insignificant, implemented\n",
    "    as the area being smaller than a certain threshold, 400*2\n",
    "    \"\"\"\n",
    "    return [p for p in polygons if p.area > 400*2]"
   ]
  },
  {
   "cell_type": "code",
   "execution_count": 483,
   "id": "f0a19f5e",
   "metadata": {},
   "outputs": [
    {
     "data": {
      "image/svg+xml": [
       "<?xml version=\"1.0\" encoding=\"UTF-8\"?>\n",
       "<svg xmlns=\"http://www.w3.org/2000/svg\" xmlns:xlink=\"http://www.w3.org/1999/xlink\"\n",
       "     width=\"800\" height=\"800\" viewBox=\"0 0 800 800\">\n",
       "<defs>\n",
       "</defs>\n",
       "<path d=\"M321.0,102.0 C305.3671,97.6893,299.6715,97.2258,290.0,101.0 C282.2123,104.0391,280.0929,106.8916,274.0,114.0 C269.0149,119.816,267.0852,122.308,266.0,129.0 C264.5567,137.9005,264.8399,143.0997,268.0,151.0 C270.4671,157.1677,273.4823,159.2803,280.0,164.0 C286.9375,169.0237,288.9294,170.8044,297.0,172.0 C313.4206,174.4327,316.3439,173.127,334.0,172.0 C338.8633,171.6896,340.9114,171.3619,344.0,169.0 C347.6797,166.1861,350.163,163.6501,351.0,159.0 C354.0002,142.3323,353.6817,138.0872,353.0,119.0 C352.7244,111.2832,352.406,107.9197,349.0,103.0 C345.4265,97.8383,342.1914,95.9503,335.0,93.0 C324.0906,88.5244,322.3288,88.5739,310.0,87.0 C299.4732,85.6562,289.26,86.82,288.0,87.0 C287.9673,87.0047,289.0,90.0,289.0,90.0\" stroke-width=\"1.5169\" stroke=\"black\" fill=\"none\" />\n",
       "<text x=\"287.9673\" y=\"87.0047\" font-size=\"8\" fill=\"blue\">0</text>\n",
       "<path d=\"M299.0,174.0 C287.0285,173.5257,285.4765,175.2023,284.0,178.0 C276.5797,192.0596,272.7872,194.5993,270.0,209.0 C267.4688,222.0778,268.9825,227.3263,272.0,240.0 C273.2371,245.196,275.4779,246.7159,280.0,251.0 C284.3283,255.1005,285.3719,255.1859,291.0,258.0 C295.0755,260.0378,295.7134,260.8496,300.0,261.0 C322.5813,261.7923,327.5698,263.0143,348.0,260.0 C354.0171,259.1122,358.3635,255.8669,361.0,252.0 C363.402,248.4771,363.3916,244.6575,363.0,238.0 C361.9479,220.115,362.6139,216.995,358.0,201.0 C355.8534,193.5586,353.6806,192.197,348.0,186.0 C343.2988,180.8714,340.339,178.5986,336.0,177.0 C334.2256,176.3463,331.1098,177.5232,329.0,179.0 C327.3675,180.1428,326.0,184.0,326.0,184.0\" stroke-width=\"1.5169\" stroke=\"black\" fill=\"none\" />\n",
       "<text x=\"327.3675\" y=\"180.1428\" font-size=\"8\" fill=\"blue\">1</text>\n",
       "<path d=\"M291.0,257.0 C281.1612,277.2368,280.0118,278.2076,279.0,289.0 C277.1166,309.09,276.4652,314.2071,279.0,331.0 C279.7367,335.881,282.5764,337.8366,287.0,342.0 C290.3035,345.1092,291.5298,345.9482,296.0,347.0 C307.2917,349.6569,308.6626,349.3982,321.0,350.0 C328.826,350.3818,331.1445,351.635,337.0,349.0 C348.2661,343.9303,350.4964,341.3365,361.0,332.0 C367.8034,325.9525,369.6001,324.0613,373.0,317.0 C375.0424,312.7582,375.5406,308.98,374.0,305.0 C370.8117,296.7636,366.0924,295.0935,361.0,286.0 C359.7288,283.7301,361.1703,281.2767,360.0,280.0 C357.4338,277.2005,354.959,275.5259,350.0,274.0 C343.0445,271.8598,334.0,272.0,334.0,272.0\" stroke-width=\"1.5169\" stroke=\"black\" fill=\"none\" />\n",
       "<text x=\"343.0445\" y=\"271.8598\" font-size=\"8\" fill=\"blue\">2</text>\n",
       "<path d=\"M279.0,192.0 C257.4456,177.8736,254.6626,180.1872,244.0,175.0 C237.1705,171.6776,231.0,165.0,231.0,165.0\" stroke-width=\"1.5169\" stroke=\"black\" fill=\"none\" />\n",
       "<text x=\"237.1705\" y=\"171.6776\" font-size=\"8\" fill=\"blue\">3</text>\n",
       "<path d=\"M267.0,214.0 C224.9734,218.8724,224.2995,219.7042,214.0,223.0 C212.4327,223.5015,211.2201,224.4498,211.0,225.0 C210.8212,225.447,212.0,228.0,212.0,228.0\" stroke-width=\"1.5169\" stroke=\"black\" fill=\"none\" />\n",
       "<text x=\"210.8212\" y=\"225.447\" font-size=\"8\" fill=\"blue\">4</text>\n",
       "<path d=\"M275.0,240.0 C249.14,261.9315,249.0,267.0,249.0,267.0\" stroke-width=\"1.5169\" stroke=\"black\" fill=\"none\" />\n",
       "<text x=\"249.14\" y=\"261.9315\" font-size=\"8\" fill=\"blue\">5</text>\n",
       "<path d=\"M357.0,196.0 C393.8942,144.5138,398.0217,146.1535,401.0,143.0 C405.0436,138.7185,408.0,130.0,408.0,130.0\" stroke-width=\"1.5169\" stroke=\"black\" fill=\"none\" />\n",
       "<text x=\"405.0436\" y=\"138.7185\" font-size=\"8\" fill=\"blue\">6</text>\n",
       "<path d=\"M361.0,210.0 C410.3679,195.1232,432.0,193.0,432.0,193.0\" stroke-width=\"1.5169\" stroke=\"black\" fill=\"none\" />\n",
       "<text x=\"410.3679\" y=\"195.1232\" font-size=\"8\" fill=\"blue\">7</text>\n",
       "<path d=\"M364.0,238.0 C377.6509,243.1476,377.1474,245.3199,381.0,248.0 C388.2254,253.0264,391.1273,254.5273,397.0,257.0 C397.7653,257.3222,400.0,256.0,400.0,256.0\" stroke-width=\"1.5169\" stroke=\"black\" fill=\"none\" />\n",
       "<text x=\"397.7653\" y=\"257.3222\" font-size=\"8\" fill=\"blue\">8</text>\n",
       "<path d=\"M289.0,131.0 C280.1193,120.4086,278.1119,121.6426,276.0,120.0 C270.037,115.3621,270.455,112.7815,264.0,108.0 C257.5336,103.21,256.026,102.4438,249.0,100.0 C245.8392,98.9006,241.0,100.0,241.0,100.0\" stroke-width=\"1.5169\" stroke=\"black\" fill=\"none\" />\n",
       "<text x=\"245.8392\" y=\"98.9006\" font-size=\"8\" fill=\"blue\">9</text>\n",
       "<path d=\"M237.0,90.0 C235.0862,100.5174,238.134,102.2362,239.0,102.0 C241.0967,101.4282,244.2515,99.4042,246.0,97.0 C247.1657,95.3972,247.1717,92.2016,247.0,91.0 C246.9623,90.7362,245.0,90.0,245.0,90.0\" stroke-width=\"1.5169\" stroke=\"black\" fill=\"none\" />\n",
       "<text x=\"246.9623\" y=\"90.7362\" font-size=\"8\" fill=\"blue\">10</text>\n",
       "<path d=\"M328.0,130.0 C305.417,54.4715,299.6373,52.8863,291.0,45.0 C289.8611,43.9602,287.6764,43.8647,287.0,44.0 C286.7508,44.0498,286.0,46.0,286.0,46.0\" stroke-width=\"1.5169\" stroke=\"black\" fill=\"none\" />\n",
       "<text x=\"286.7508\" y=\"44.0498\" font-size=\"8\" fill=\"blue\">11</text>\n",
       "<path d=\"M291.0,35.0 C285.756,34.7775,283.4537,37.4289,283.0,40.0 C282.2677,44.1498,283.9158,50.9579,284.0,51.0 C284.0453,51.0227,289.3624,47.0412,291.0,44.0 C291.9124,42.3056,291.7919,39.5838,291.0,38.0 C290.1421,36.2842,286.0,34.0,286.0,34.0\" stroke-width=\"1.5169\" stroke=\"black\" fill=\"none\" />\n",
       "<text x=\"290.1421\" y=\"36.2842\" font-size=\"8\" fill=\"blue\">12</text>\n",
       "</svg>"
      ],
      "text/plain": [
       "<drawsvg.drawing.Drawing at 0x2127a06a550>"
      ]
     },
     "execution_count": 483,
     "metadata": {},
     "output_type": "execute_result"
    }
   ],
   "source": [
    "svg = load('assets/svg/ant/283.svg')\n",
    "display(svg)"
   ]
  },
  {
   "cell_type": "code",
   "execution_count": 484,
   "id": "824a8e81",
   "metadata": {},
   "outputs": [],
   "source": [
    "line_strings = get_line_strings(svg['paths'])"
   ]
  },
  {
   "cell_type": "code",
   "execution_count": 485,
   "id": "c20f64b0",
   "metadata": {},
   "outputs": [
    {
     "data": {
      "image/svg+xml": [
       "<svg xmlns=\"http://www.w3.org/2000/svg\" xmlns:xlink=\"http://www.w3.org/1999/xlink\" width=\"245.60000000000002\" height=\"300\" viewBox=\"187.2 7.199999999999999 245.60000000000002 345.6\" preserveAspectRatio=\"xMinYMin meet\"><g transform=\"matrix(1,0,0,-1,0,360.0)\"><g><polyline fill=\"none\" stroke=\"#66cc99\" stroke-width=\"2.3040000000000003\" points=\"320.0,100.0 320.0,100.0 300.0,80.0 300.0,80.0 300.0,80.0 300.0,80.0 280.0,80.0 280.0,100.0 280.0,100.0 280.0,100.0 280.0,100.0 260.0,100.0 260.0,100.0 260.0,100.0 260.0,120.0 260.0,120.0 260.0,120.0 260.0,120.0 260.0,140.0 260.0,140.0 260.0,140.0 260.0,140.0 260.0,140.0 280.0,160.0 280.0,160.0 280.0,160.0 280.0,160.0 280.0,160.0 280.0,160.0 300.0,160.0 300.0,160.0 320.0,160.0 320.0,160.0 320.0,160.0 340.0,160.0 340.0,160.0 340.0,160.0 340.0,160.0 340.0,160.0 340.0,140.0 340.0,140.0 340.0,140.0 340.0,120.0 340.0,100.0 340.0,100.0 340.0,100.0 340.0,100.0 340.0,100.0 340.0,100.0 340.0,80.0 340.0,80.0 320.0,80.0 320.0,80.0 320.0,80.0 320.0,80.0 300.0,80.0 300.0,80.0 280.0,80.0 280.0,80.0 280.0,80.0 280.0,80.0 280.0,80.0 280.0,80.0 280.0,80.0\" opacity=\"0.8\" /><polyline fill=\"none\" stroke=\"#66cc99\" stroke-width=\"2.3040000000000003\" points=\"280.0,160.0 280.0,160.0 280.0,160.0 280.0,160.0 280.0,160.0 280.0,160.0 280.0,160.0 280.0,160.0 280.0,160.0 260.0,180.0 260.0,180.0 260.0,200.0 260.0,200.0 260.0,220.0 260.0,220.0 260.0,240.0 260.0,240.0 260.0,240.0 260.0,240.0 280.0,240.0 280.0,240.0 280.0,240.0 280.0,240.0 280.0,240.0 280.0,240.0 280.0,260.0 280.0,260.0 300.0,260.0 300.0,260.0 320.0,260.0 320.0,260.0 340.0,260.0 340.0,260.0 340.0,240.0 340.0,240.0 360.0,240.0 360.0,240.0 360.0,240.0 360.0,240.0 360.0,220.0 360.0,220.0 360.0,220.0 360.0,200.0 340.0,200.0 340.0,200.0 340.0,180.0 340.0,180.0 340.0,180.0 340.0,180.0 340.0,180.0 340.0,160.0 320.0,160.0 320.0,160.0 320.0,160.0 320.0,160.0 320.0,160.0 320.0,160.0 320.0,180.0 320.0,180.0 320.0,180.0\" opacity=\"0.8\" /><polyline fill=\"none\" stroke=\"#66cc99\" stroke-width=\"2.3040000000000003\" points=\"280.0,240.0 280.0,240.0 280.0,260.0 280.0,260.0 280.0,260.0 280.0,260.0 280.0,260.0 260.0,280.0 260.0,280.0 260.0,300.0 260.0,300.0 260.0,320.0 260.0,320.0 260.0,320.0 280.0,320.0 280.0,340.0 280.0,340.0 280.0,340.0 280.0,340.0 280.0,340.0 280.0,340.0 300.0,340.0 300.0,340.0 320.0,340.0 320.0,340.0 320.0,340.0 320.0,340.0 320.0,340.0 320.0,340.0 340.0,340.0 340.0,340.0 360.0,320.0 360.0,320.0 360.0,320.0 360.0,320.0 360.0,300.0 360.0,300.0 360.0,300.0 360.0,300.0 360.0,300.0 360.0,300.0 360.0,280.0 360.0,280.0 360.0,280.0 360.0,280.0 340.0,280.0 360.0,280.0 360.0,280.0 360.0,280.0 340.0,260.0 340.0,260.0 340.0,260.0 340.0,260.0 340.0,260.0 320.0,260.0 320.0,260.0\" opacity=\"0.8\" /><polyline fill=\"none\" stroke=\"#66cc99\" stroke-width=\"2.3040000000000003\" points=\"260.0,180.0 260.0,180.0 260.0,180.0 260.0,180.0 260.0,180.0 240.0,160.0 240.0,180.0 240.0,160.0 240.0,160.0 220.0,160.0 220.0,160.0 220.0,160.0\" opacity=\"0.8\" /><polyline fill=\"none\" stroke=\"#66cc99\" stroke-width=\"2.3040000000000003\" points=\"260.0,200.0 260.0,200.0 240.0,200.0 220.0,200.0 220.0,200.0 220.0,200.0 220.0,200.0 200.0,220.0 200.0,220.0 200.0,220.0 200.0,220.0 200.0,220.0 200.0,220.0 200.0,220.0 200.0,220.0 200.0,220.0\" opacity=\"0.8\" /><polyline fill=\"none\" stroke=\"#66cc99\" stroke-width=\"2.3040000000000003\" points=\"260.0,240.0 260.0,240.0 240.0,240.0 240.0,260.0 240.0,260.0 240.0,260.0 240.0,260.0 240.0,260.0\" opacity=\"0.8\" /><polyline fill=\"none\" stroke=\"#66cc99\" stroke-width=\"2.3040000000000003\" points=\"340.0,180.0 340.0,180.0 360.0,160.0 380.0,140.0 380.0,140.0 380.0,140.0 380.0,140.0 400.0,140.0 400.0,140.0 400.0,120.0 400.0,120.0 400.0,120.0\" opacity=\"0.8\" /><polyline fill=\"none\" stroke=\"#66cc99\" stroke-width=\"2.3040000000000003\" points=\"360.0,200.0 360.0,200.0 360.0,200.0 380.0,200.0 380.0,200.0 400.0,180.0 420.0,180.0 420.0,180.0\" opacity=\"0.8\" /><polyline fill=\"none\" stroke=\"#66cc99\" stroke-width=\"2.3040000000000003\" points=\"360.0,220.0 360.0,220.0 360.0,220.0 360.0,240.0 360.0,240.0 360.0,240.0 360.0,240.0 380.0,240.0 380.0,240.0 380.0,240.0 380.0,240.0 380.0,240.0 380.0,240.0 380.0,240.0 400.0,240.0 400.0,240.0\" opacity=\"0.8\" /><polyline fill=\"none\" stroke=\"#66cc99\" stroke-width=\"2.3040000000000003\" points=\"280.0,120.0 280.0,120.0 280.0,120.0 280.0,120.0 280.0,120.0 280.0,120.0 260.0,120.0 260.0,120.0 260.0,120.0 260.0,100.0 260.0,100.0 260.0,100.0 260.0,100.0 240.0,100.0 240.0,100.0 240.0,100.0 240.0,100.0 240.0,80.0 240.0,100.0 240.0,100.0\" opacity=\"0.8\" /><polyline fill=\"none\" stroke=\"#66cc99\" stroke-width=\"2.3040000000000003\" points=\"220.0,80.0 220.0,80.0 220.0,80.0 220.0,100.0 220.0,100.0 220.0,100.0 220.0,100.0 220.0,100.0 220.0,100.0 240.0,100.0 240.0,80.0 240.0,80.0 240.0,80.0 240.0,80.0 240.0,80.0 240.0,80.0 240.0,80.0 240.0,80.0 240.0,80.0 240.0,80.0\" opacity=\"0.8\" /><polyline fill=\"none\" stroke=\"#66cc99\" stroke-width=\"2.3040000000000003\" points=\"320.0,120.0 320.0,120.0 320.0,80.0 300.0,60.0 300.0,60.0 300.0,40.0 280.0,40.0 280.0,40.0 280.0,40.0 280.0,40.0 280.0,40.0 280.0,40.0 280.0,40.0 280.0,40.0 280.0,40.0 280.0,40.0\" opacity=\"0.8\" /><polyline fill=\"none\" stroke=\"#66cc99\" stroke-width=\"2.3040000000000003\" points=\"280.0,20.0 280.0,20.0 280.0,20.0 280.0,20.0 280.0,20.0 280.0,20.0 280.0,20.0 280.0,40.0 280.0,40.0 280.0,40.0 280.0,40.0 280.0,40.0 280.0,40.0 280.0,40.0 280.0,40.0 280.0,40.0 280.0,40.0 280.0,40.0 280.0,20.0 280.0,20.0 280.0,20.0 280.0,20.0 280.0,20.0 280.0,20.0\" opacity=\"0.8\" /></g></g></svg>"
      ],
      "text/plain": [
       "<MULTILINESTRING ((320 100, 320 100, 300 80, 300 80, 300 80, 300 80, 280 80,...>"
      ]
     },
     "execution_count": 485,
     "metadata": {},
     "output_type": "execute_result"
    }
   ],
   "source": [
    "shapely.MultiLineString(line_strings)"
   ]
  },
  {
   "cell_type": "code",
   "execution_count": 498,
   "id": "c73f890b",
   "metadata": {},
   "outputs": [
    {
     "data": {
      "image/svg+xml": [
       "<svg xmlns=\"http://www.w3.org/2000/svg\" xmlns:xlink=\"http://www.w3.org/1999/xlink\" width=\"244.0\" height=\"300\" viewBox=\"188.0 28.0 244.0 324.0\" preserveAspectRatio=\"xMinYMin meet\"><g transform=\"matrix(1,0,0,-1,0,380.0)\"><g><polyline fill=\"none\" stroke=\"#66cc99\" stroke-width=\"2.16\" points=\"320.0,100.0 320.0,100.0 300.0,80.0 300.0,80.0 300.0,80.0 300.0,80.0 280.0,80.0 280.0,100.0 280.0,100.0 280.0,100.0 280.0,100.0 260.0,100.0 260.0,100.0 260.0,100.0 260.0,120.0 260.0,120.0 260.0,120.0 260.0,120.0 260.0,140.0 260.0,140.0 260.0,140.0 260.0,140.0 260.0,140.0 280.0,160.0 280.0,160.0 280.0,160.0 280.0,160.0 280.0,160.0 280.0,160.0 300.0,160.0 300.0,160.0 320.0,160.0 320.0,160.0 320.0,160.0 340.0,160.0 340.0,160.0 340.0,160.0 340.0,160.0 340.0,160.0 340.0,140.0 340.0,140.0 340.0,140.0 340.0,120.0 340.0,100.0 340.0,100.0 340.0,100.0 340.0,100.0 340.0,100.0 340.0,100.0 340.0,80.0 340.0,80.0 320.0,80.0 320.0,80.0 320.0,80.0 320.0,80.0 300.0,80.0 300.0,80.0 280.0,80.0 280.0,80.0 280.0,80.0 280.0,80.0 280.0,80.0 280.0,80.0 280.0,80.0\" opacity=\"0.8\" /><polyline fill=\"none\" stroke=\"#66cc99\" stroke-width=\"2.16\" points=\"280.0,160.0 280.0,160.0 280.0,160.0 280.0,160.0 280.0,160.0 280.0,160.0 280.0,160.0 280.0,160.0 280.0,160.0 260.0,180.0 260.0,180.0 260.0,200.0 260.0,200.0 260.0,220.0 260.0,220.0 260.0,240.0 260.0,240.0 260.0,240.0 260.0,240.0 280.0,240.0 280.0,240.0 280.0,240.0 280.0,240.0 280.0,240.0 280.0,240.0 280.0,260.0 280.0,260.0 300.0,260.0 300.0,260.0 320.0,260.0 320.0,260.0 340.0,260.0 340.0,260.0 340.0,240.0 340.0,240.0 360.0,240.0 360.0,240.0 360.0,240.0 360.0,240.0 360.0,220.0 360.0,220.0 360.0,220.0 360.0,200.0 340.0,200.0 340.0,200.0 340.0,180.0 340.0,180.0 340.0,180.0 340.0,180.0 340.0,180.0 340.0,160.0 320.0,160.0 320.0,160.0 320.0,160.0 320.0,160.0 320.0,160.0 320.0,160.0 320.0,180.0 320.0,180.0 320.0,180.0\" opacity=\"0.8\" /><polyline fill=\"none\" stroke=\"#66cc99\" stroke-width=\"2.16\" points=\"280.0,240.0 280.0,240.0 280.0,260.0 280.0,260.0 280.0,260.0 280.0,260.0 280.0,260.0 260.0,280.0 260.0,280.0 260.0,300.0 260.0,300.0 260.0,320.0 260.0,320.0 260.0,320.0 280.0,320.0 280.0,340.0 280.0,340.0 280.0,340.0 280.0,340.0 280.0,340.0 280.0,340.0 300.0,340.0 300.0,340.0 320.0,340.0 320.0,340.0 320.0,340.0 320.0,340.0 320.0,340.0 320.0,340.0 340.0,340.0 340.0,340.0 360.0,320.0 360.0,320.0 360.0,320.0 360.0,320.0 360.0,300.0 360.0,300.0 360.0,300.0 360.0,300.0 360.0,300.0 360.0,300.0 360.0,280.0 360.0,280.0 360.0,280.0 360.0,280.0 340.0,280.0 360.0,280.0 360.0,280.0 360.0,280.0 340.0,260.0 340.0,260.0 340.0,260.0 340.0,260.0 340.0,260.0 320.0,260.0 320.0,260.0\" opacity=\"0.8\" /><polyline fill=\"none\" stroke=\"#66cc99\" stroke-width=\"2.16\" points=\"260.0,180.0 260.0,180.0 260.0,180.0 260.0,180.0 260.0,180.0 240.0,160.0 240.0,180.0 240.0,160.0 240.0,160.0 220.0,160.0 220.0,160.0 220.0,160.0\" opacity=\"0.8\" /><polyline fill=\"none\" stroke=\"#66cc99\" stroke-width=\"2.16\" points=\"260.0,200.0 260.0,200.0 240.0,200.0 220.0,200.0 220.0,200.0 220.0,200.0 220.0,200.0 200.0,220.0 200.0,220.0 200.0,220.0 200.0,220.0 200.0,220.0 200.0,220.0 200.0,220.0 200.0,220.0 200.0,220.0\" opacity=\"0.8\" /><polyline fill=\"none\" stroke=\"#66cc99\" stroke-width=\"2.16\" points=\"340.0,180.0 340.0,180.0 360.0,160.0 380.0,140.0 380.0,140.0 380.0,140.0 380.0,140.0 400.0,140.0 400.0,140.0 400.0,120.0 400.0,120.0 400.0,120.0\" opacity=\"0.8\" /><polyline fill=\"none\" stroke=\"#66cc99\" stroke-width=\"2.16\" points=\"360.0,200.0 360.0,200.0 360.0,200.0 380.0,200.0 380.0,200.0 400.0,180.0 420.0,180.0 420.0,180.0\" opacity=\"0.8\" /><polyline fill=\"none\" stroke=\"#66cc99\" stroke-width=\"2.16\" points=\"360.0,220.0 360.0,220.0 360.0,220.0 360.0,240.0 360.0,240.0 360.0,240.0 360.0,240.0 380.0,240.0 380.0,240.0 380.0,240.0 380.0,240.0 380.0,240.0 380.0,240.0 380.0,240.0 400.0,240.0 400.0,240.0\" opacity=\"0.8\" /><polyline fill=\"none\" stroke=\"#66cc99\" stroke-width=\"2.16\" points=\"280.0,120.0 280.0,120.0 280.0,120.0 280.0,120.0 280.0,120.0 280.0,120.0 260.0,120.0 260.0,120.0 260.0,120.0 260.0,100.0 260.0,100.0 260.0,100.0 260.0,100.0 240.0,100.0 240.0,100.0 240.0,100.0 240.0,100.0 240.0,80.0 240.0,100.0 240.0,100.0\" opacity=\"0.8\" /><polyline fill=\"none\" stroke=\"#66cc99\" stroke-width=\"2.16\" points=\"220.0,80.0 220.0,80.0 220.0,80.0 220.0,100.0 220.0,100.0 220.0,100.0 220.0,100.0 220.0,100.0 220.0,100.0 240.0,100.0 240.0,80.0 240.0,80.0 240.0,80.0 240.0,80.0 240.0,80.0 240.0,80.0 240.0,80.0 240.0,80.0 240.0,80.0 240.0,80.0\" opacity=\"0.8\" /><polyline fill=\"none\" stroke=\"#66cc99\" stroke-width=\"2.16\" points=\"320.0,120.0 320.0,120.0 320.0,80.0 300.0,60.0 300.0,60.0 300.0,40.0 280.0,40.0 280.0,40.0 280.0,40.0 280.0,40.0 280.0,40.0 280.0,40.0 280.0,40.0 280.0,40.0 280.0,40.0 280.0,40.0\" opacity=\"0.8\" /></g></g></svg>"
      ],
      "text/plain": [
       "<MULTILINESTRING ((320 100, 320 100, 300 80, 300 80, 300 80, 300 80, 280 80,...>"
      ]
     },
     "execution_count": 498,
     "metadata": {},
     "output_type": "execute_result"
    }
   ],
   "source": [
    "shapely.MultiLineString(filter_linestrings(line_strings))"
   ]
  },
  {
   "cell_type": "code",
   "execution_count": 487,
   "id": "0a96f99c",
   "metadata": {},
   "outputs": [
    {
     "data": {
      "image/svg+xml": [
       "<svg xmlns=\"http://www.w3.org/2000/svg\" xmlns:xlink=\"http://www.w3.org/1999/xlink\" width=\"244.0\" height=\"300\" viewBox=\"188.0 28.0 244.0 324.0\" preserveAspectRatio=\"xMinYMin meet\"><g transform=\"matrix(1,0,0,-1,0,380.0)\"><g><path fill-rule=\"evenodd\" fill=\"#ff3333\" stroke=\"#555555\" stroke-width=\"2.16\" opacity=\"0.6\" d=\"M 280.0,80.0 L 260.0,100.0 L 260.0,140.0 L 280.0,160.0 L 340.0,160.0 L 340.0,80.0 L 280.0,80.0 z\" /><path fill-rule=\"evenodd\" fill=\"#ff3333\" stroke=\"#555555\" stroke-width=\"2.16\" opacity=\"0.6\" d=\"M 280.0,160.0 L 260.0,180.0 L 260.0,240.0 L 280.0,260.0 L 340.0,260.0 L 360.0,240.0 L 360.0,200.0 L 340.0,160.0 L 280.0,160.0 z\" /><path fill-rule=\"evenodd\" fill=\"#ff3333\" stroke=\"#555555\" stroke-width=\"2.16\" opacity=\"0.6\" d=\"M 280.0,240.0 L 260.0,280.0 L 260.0,320.0 L 280.0,340.0 L 340.0,340.0 L 360.0,320.0 L 360.0,280.0 L 340.0,260.0 L 280.0,240.0 z\" /><path fill-rule=\"evenodd\" fill=\"#ff3333\" stroke=\"#555555\" stroke-width=\"2.16\" opacity=\"0.6\" d=\"M 220.0,160.0 L 240.0,180.0 L 260.0,180.0 L 240.0,160.0 L 220.0,160.0 z\" /><path fill-rule=\"evenodd\" fill=\"#ff3333\" stroke=\"#555555\" stroke-width=\"2.16\" opacity=\"0.6\" d=\"M 220.0,200.0 L 200.0,220.0 L 260.0,200.0 L 220.0,200.0 z\" /><path fill-rule=\"evenodd\" fill=\"#ff3333\" stroke=\"#555555\" stroke-width=\"2.16\" opacity=\"0.6\" d=\"M 240.0,240.0 L 240.0,260.0 L 260.0,240.0 L 240.0,240.0 z\" /><path fill-rule=\"evenodd\" fill=\"#ff3333\" stroke=\"#555555\" stroke-width=\"2.16\" opacity=\"0.6\" d=\"M 400.0,120.0 L 340.0,180.0 L 400.0,140.0 L 400.0,120.0 z\" /><path fill-rule=\"evenodd\" fill=\"#ff3333\" stroke=\"#555555\" stroke-width=\"2.16\" opacity=\"0.6\" d=\"M 400.0,180.0 L 360.0,200.0 L 380.0,200.0 L 420.0,180.0 L 400.0,180.0 z\" /><path fill-rule=\"evenodd\" fill=\"#ff3333\" stroke=\"#555555\" stroke-width=\"2.16\" opacity=\"0.6\" d=\"M 360.0,220.0 L 360.0,240.0 L 400.0,240.0 L 360.0,220.0 z\" /><path fill-rule=\"evenodd\" fill=\"#ff3333\" stroke=\"#555555\" stroke-width=\"2.16\" opacity=\"0.6\" d=\"M 240.0,80.0 L 240.0,100.0 L 260.0,120.0 L 280.0,120.0 L 240.0,80.0 z\" /><path fill-rule=\"evenodd\" fill=\"#ff3333\" stroke=\"#555555\" stroke-width=\"2.16\" opacity=\"0.6\" d=\"M 220.0,80.0 L 220.0,100.0 L 240.0,100.0 L 240.0,80.0 L 220.0,80.0 z\" /><path fill-rule=\"evenodd\" fill=\"#ff3333\" stroke=\"#555555\" stroke-width=\"2.16\" opacity=\"0.6\" d=\"M 280.0,40.0 L 320.0,120.0 L 320.0,80.0 L 300.0,40.0 L 280.0,40.0 z\" /></g></g></svg>"
      ],
      "text/plain": [
       "<MULTIPOLYGON (((280 80, 260 100, 260 140, 280 160, 340 160, 340 80, 280 80)...>"
      ]
     },
     "execution_count": 487,
     "metadata": {},
     "output_type": "execute_result"
    }
   ],
   "source": [
    "hulls = get_hulls(line_strings)\n",
    "\n",
    "shapely.MultiPolygon(hulls)"
   ]
  },
  {
   "cell_type": "code",
   "execution_count": 490,
   "id": "8e98dde3",
   "metadata": {},
   "outputs": [
    {
     "name": "stdout",
     "output_type": "stream",
     "text": [
      "200.0 9000.0\n"
     ]
    },
    {
     "data": {
      "image/svg+xml": [
       "<svg xmlns=\"http://www.w3.org/2000/svg\" xmlns:xlink=\"http://www.w3.org/1999/xlink\" width=\"124.0\" height=\"300\" viewBox=\"248.0 28.0 124.0 324.0\" preserveAspectRatio=\"xMinYMin meet\"><g transform=\"matrix(1,0,0,-1,0,380.0)\"><g><path fill-rule=\"evenodd\" fill=\"#ff3333\" stroke=\"#555555\" stroke-width=\"2.16\" opacity=\"0.6\" d=\"M 280.0,80.0 L 260.0,100.0 L 260.0,140.0 L 280.0,160.0 L 340.0,160.0 L 340.0,80.0 L 280.0,80.0 z\" /><path fill-rule=\"evenodd\" fill=\"#ff3333\" stroke=\"#555555\" stroke-width=\"2.16\" opacity=\"0.6\" d=\"M 280.0,160.0 L 260.0,180.0 L 260.0,240.0 L 280.0,260.0 L 340.0,260.0 L 360.0,240.0 L 360.0,200.0 L 340.0,160.0 L 280.0,160.0 z\" /><path fill-rule=\"evenodd\" fill=\"#ff3333\" stroke=\"#555555\" stroke-width=\"2.16\" opacity=\"0.6\" d=\"M 280.0,240.0 L 260.0,280.0 L 260.0,320.0 L 280.0,340.0 L 340.0,340.0 L 360.0,320.0 L 360.0,280.0 L 340.0,260.0 L 280.0,240.0 z\" /><path fill-rule=\"evenodd\" fill=\"#ff3333\" stroke=\"#555555\" stroke-width=\"2.16\" opacity=\"0.6\" d=\"M 280.0,40.0 L 320.0,120.0 L 320.0,80.0 L 300.0,40.0 L 280.0,40.0 z\" /></g></g></svg>"
      ],
      "text/plain": [
       "<MULTIPOLYGON (((280 80, 260 100, 260 140, 280 160, 340 160, 340 80, 280 80)...>"
      ]
     },
     "execution_count": 490,
     "metadata": {},
     "output_type": "execute_result"
    }
   ],
   "source": [
    "print(min(map(lambda h: h.area, hulls)), max(map(lambda h: h.area, hulls)))\n",
    "\n",
    "filtered = filter_polygons(hulls)\n",
    "shapely.MultiPolygon(filtered)"
   ]
  },
  {
   "cell_type": "markdown",
   "id": "ff707652",
   "metadata": {},
   "source": [
    "### EXTRACTION"
   ]
  },
  {
   "cell_type": "code",
   "execution_count": 128,
   "id": "ae8df029",
   "metadata": {},
   "outputs": [],
   "source": [
    "IMAGE_DIRECTORY = os.sep.join(['assets', 'svg'])\n",
    "\n",
    "def get_files(ext='svg'):\n",
    "    \"\"\"\n",
    "    Returns an iterator that yields the image file paths and their labels.\n",
    "    \"\"\"    \n",
    "    def get_label(path):\n",
    "        return path.split(os.sep)[-1]\n",
    "    \n",
    "    files = []\n",
    "    \n",
    "    for r, _, f in os.walk(IMAGE_DIRECTORY):\n",
    "        for file in f:\n",
    "            if file.endswith(f'.{ext}'):\n",
    "                label = get_label(r)\n",
    "                file_path = os.path.join(r, file)\n",
    "                \n",
    "                files.append((file_path, label))\n",
    "                \n",
    "    return files"
   ]
  },
  {
   "cell_type": "code",
   "execution_count": 129,
   "id": "4fb3340c",
   "metadata": {},
   "outputs": [],
   "source": [
    "def load_images(files):\n",
    "    \"\"\"\n",
    "    Returns an iterator that yields the image data and their labels.\n",
    "    \"\"\"\n",
    "    for f, l in files:\n",
    "        yield load(f), l\n",
    "        \n",
    "def extract_graphs(images):\n",
    "    \"\"\"\n",
    "    Extract all graphs from given images.\n",
    "    \"\"\"\n",
    "    i = 0\n",
    "    graphs = []\n",
    "    for img, l in images:\n",
    "        graphs.append(extract_graph(img, l))\n",
    "        print(i)\n",
    "        i += 1\n",
    "    return graphs"
   ]
  },
  {
   "cell_type": "code",
   "execution_count": null,
   "id": "2f6fce56",
   "metadata": {},
   "outputs": [],
   "source": [
    "def extract_graph(img, label) -> nx.Graph:\n",
    "    \"\"\"\n",
    "    Extract topology and geometry graph from source (image, label) pair.\n",
    "    \n",
    "    Nodes signify visual units in the image. These include:\n",
    "    - Strokes (lines, curves)\n",
    "    - Shapes (circle, rectangle)\n",
    "    \n",
    "    Nodes contain data, including:\n",
    "    - Shape information\n",
    "    - Center of unit in image coordinates\n",
    "    \n",
    "    Edges specify spatial relationships between nodes, as per \n",
    "    Sousa & Fonseca. “Sketch-Based Retrieval of Drawings using Topological Proximity” :\n",
    "    - Adjacency: two nodes intersect\n",
    "    - Composition: a node is contained inside another\n",
    "    \"\"\"\n",
    "    G = nx.Graph()\n",
    "    \n",
    "    # Get sketch contours\n",
    "    contours, hierarchy = get_contours(img)\n",
    "    \n",
    "    # Use contour centroids to get node\n",
    "    centroids = get_centroids(contours)\n",
    "    \n",
    "    # Use hull to derive adjacency relations\n",
    "    hulls = get_hulls(contours)\n",
    "    \n",
    "    # Create nodes with centroid, perimeter, and area attributes\n",
    "    for i, c in enumerate(centroids):\n",
    "        if c != None and hulls[i] is not None:\n",
    "            length, area = hulls[i].length, hulls[i].area\n",
    "            G.add_node(i, position=c , length=length, area=area)\n",
    "    \n",
    "    # Create neighbor edges using convex hull intersection\n",
    "    for i, j in product(G.nodes, repeat=2):\n",
    "        h1, h2 = hulls[i], hulls[j]\n",
    "        if i != j and h1 is not None and h2 is not None and h1.intersects(h2):\n",
    "                G.add_edge(i, j, relation='neighbor')\n",
    "                \n",
    "    # Create parent edges using contour hierarchy tree\n",
    "    for i in G.nodes:\n",
    "        parent = hierarchy[0, i, -1]\n",
    "        if parent > -1:\n",
    "            G.add_edge(i, parent, relation='parent')\n",
    "    \n",
    "    # Add graph labels\n",
    "    G.graph['label'] = label\n",
    "    G.graph['positions'] = {i : np.array(c) for i, c in enumerate(centroids)}\n",
    "    \n",
    "    return G"
   ]
  },
  {
   "cell_type": "code",
   "execution_count": null,
   "id": "cfcaaf65",
   "metadata": {},
   "outputs": [],
   "source": [
    "def get_contours(img) -> List[np.array]:\n",
    "    blur = cv2.medianBlur(img, 7)\n",
    "\n",
    "    ret, thresh = cv2.threshold(cv2.cvtColor(img, cv2.COLOR_BGR2GRAY), 127, 255, cv2.THRESH_BINARY)\n",
    "\n",
    "    contours, hierarchy = cv2.findContours(thresh, cv2.RETR_TREE, cv2.CHAIN_APPROX_SIMPLE)\n",
    "\n",
    "    return contours, hierarchy"
   ]
  },
  {
   "cell_type": "code",
   "execution_count": null,
   "id": "9c54b4a9",
   "metadata": {},
   "outputs": [],
   "source": [
    "def get_centroids(contours) -> List[Optional[Tuple[int, int]]]:\n",
    "    \"\"\"\n",
    "    Computes the centroids of the given contours\n",
    "    \"\"\"\n",
    "    def get_centroid(c):\n",
    "        M = cv2.moments(c)\n",
    "        if M['m00'] != 0:\n",
    "            cx = int(M['m10']/M['m00'])\n",
    "            cy = int(M['m01']/M['m00'])\n",
    "            return (cx, cy)\n",
    "        return None\n",
    "            \n",
    "    return [get_centroid(c) for c in contours]"
   ]
  },
  {
   "cell_type": "code",
   "execution_count": null,
   "id": "5bb7765a",
   "metadata": {},
   "outputs": [],
   "source": [
    "def get_hulls(contours) -> List[Optional[shapely.Polygon]]:\n",
    "    \"\"\"\n",
    "    Computes the convex hulls of the given contours, and returns a polygon object.\n",
    "    \"\"\"\n",
    "    def to_polygon(hull):\n",
    "        n, *_ = hull.shape\n",
    "        if n > 3:\n",
    "            return shapely.Polygon(np.reshape(hull, (n, 2)))\n",
    "        return None\n",
    "    \n",
    "    return [to_polygon(cv2.convexHull(c)) for c in contours]"
   ]
  },
  {
   "cell_type": "code",
   "execution_count": 130,
   "id": "1b3ade14",
   "metadata": {},
   "outputs": [],
   "source": [
    "def plot_graph(G):\n",
    "    pos = G.graph['positions']\n",
    "    plt.figure()\n",
    "    nx.draw(\n",
    "        G, pos, edge_color='black', width=1, linewidths=1,\n",
    "        node_size=500, node_color='blue', alpha=0.5\n",
    "    )\n",
    "    nx.draw_networkx_edge_labels(\n",
    "        G, pos,\n",
    "        edge_labels=nx.get_edge_attributes(G,'relation'),\n",
    "        font_color='red'\n",
    "    )\n",
    "    plt.axis('off')\n",
    "    plt.show()"
   ]
  },
  {
   "cell_type": "code",
   "execution_count": null,
   "id": "24a5a381",
   "metadata": {},
   "outputs": [],
   "source": [
    "img = load('assets/png/angel/189.png')\n",
    "display(img)\n",
    "\n",
    "G = extract_graph(img, 'angel')\n",
    "plot_graph(G)"
   ]
  },
  {
   "cell_type": "markdown",
   "id": "10d00714",
   "metadata": {},
   "source": [
    "# DATABASE"
   ]
  },
  {
   "cell_type": "code",
   "execution_count": null,
   "id": "81def26f",
   "metadata": {},
   "outputs": [],
   "source": [
    "def dump_graphs(graphs):\n",
    "    with open(\"graphs.p\", 'wb') as f:\n",
    "        pickle.dump(graphs, f)\n",
    "    \n",
    "def load_graphs() -> List[nx.Graph]:\n",
    "    with open(\"graphs.p\", 'rb') as f:\n",
    "        return pickle.load(f)"
   ]
  },
  {
   "cell_type": "code",
   "execution_count": null,
   "id": "c102a82e",
   "metadata": {},
   "outputs": [],
   "source": [
    "class NeighborBPlusTree(BPlusTree): \n",
    "    def get_neighbors(self, key, default={}) -> dict:\n",
    "        with self._mem.read_transaction:\n",
    "            node = self._search_in_tree(key, self._root_node)\n",
    "            records = node.entries\n",
    "            rv = {r.key: self._get_value_from_record(r) for r in records}\n",
    "            assert isinstance(rv, dict)\n",
    "            return rv\n",
    "            \n",
    "class DoubleSerializer(Serializer):\n",
    "    __slots__ = []\n",
    "\n",
    "    def serialize(self, obj: float, key_size: int) -> bytes:\n",
    "        return struct.pack('d', obj)\n",
    "\n",
    "    def deserialize(self, data: bytes) -> float:\n",
    "        return struct.unpack('d', data)[0]"
   ]
  },
  {
   "cell_type": "code",
   "execution_count": null,
   "id": "4b636de7",
   "metadata": {},
   "outputs": [],
   "source": [
    "def construct_database(graphs) -> BPlusTree:\n",
    "    \"\"\"\n",
    "    Populates database with all graphs extracted from images, along with image index and label.\n",
    "    \n",
    "    Uses the algorithms described in Fonseca and Jorge \"Indexing High-Dimensional Data for \n",
    "    Content-Based Retrieval in Large Databases\".\n",
    "    \n",
    "    Constructs a B+tree that uses the index described in the paper to map labels, facilitates\n",
    "    range queries and KNN queries. \n",
    "    \n",
    "    The B+-tree maps the index to graph information, serialized to bytes.\n",
    "    \n",
    "    TO-DO: change from only encoding label to more graph features!\n",
    "    \"\"\"\n",
    "    def construction_index(G):\n",
    "        return perturbe(index(G))\n",
    "    \n",
    "    # Create database, with key_size of 8 bytes (C double), other parameters to be determined\n",
    "    db = NeighborBPlusTree('db/labels.db', serializer=DoubleSerializer(), order=64, key_size=8)\n",
    "    \n",
    "    try:\n",
    "        # Create iterator for all key/value pairs to be inserted into database\n",
    "        iterator = sorted( \n",
    "            zip(\n",
    "                # All keys\n",
    "                map(construction_index, graphs),\n",
    "                # All values (binary)\n",
    "                map(lambda G: G.graph['label'].encode(), graphs)\n",
    "            ),\n",
    "            key=lambda t: t[0]\n",
    "        )\n",
    "        counts = Counter(map(lambda t: t[0], iterator))\n",
    "        print(len(counts))\n",
    "        assert len(counts) == 20_000\n",
    "\n",
    "#         # Insert all key/value pairs into the database\n",
    "        db.batch_insert(iterator)\n",
    "#         for k, v in iterator:\n",
    "#             db[k] = v\n",
    "\n",
    "        # Flush\n",
    "        db.checkpoint()\n",
    "        return db        \n",
    "        \n",
    "    except:\n",
    "        # DB unexpected error, close.\n",
    "        erase_database(db)\n",
    "        raise \n",
    "\n",
    "def erase_database(db):\n",
    "    db.close()\n",
    "    os.remove('db/labels.db')"
   ]
  },
  {
   "cell_type": "code",
   "execution_count": null,
   "id": "b654ec51",
   "metadata": {},
   "outputs": [],
   "source": [
    "def query_database(db, query):\n",
    "    \"\"\"\n",
    "    Returns set of candidate graphs from the database using a query graph.\n",
    "    \n",
    "    Uses the K-NN query from Fonseca and Jorge \"Indexing High-Dimensional \n",
    "    Data for Content-Based Retrieval in Large Databases\".\n",
    "    \"\"\"\n",
    "    key = index(query)\n",
    "    \n",
    "    return db.get_neighbors(key)"
   ]
  },
  {
   "cell_type": "code",
   "execution_count": null,
   "id": "67739822",
   "metadata": {},
   "outputs": [],
   "source": [
    "def index(graph):\n",
    "    \"\"\"\n",
    "    Get the topology index of the graph, as described in \n",
    "    Sousa and Fonseca \"Sketch-Based Retrieval of Drawings using Topological Proximity\"\n",
    "    and in Fonseca and Jorge \"Indexing High-Dimensional Data for Content-Based Retrieval \n",
    "    in Large Databases\".\n",
    "    \n",
    "    Is the norm of the array of absolute value eigenvalues of the graph's adjacency matrix.\n",
    "    \n",
    "    This is used as the index of a B+-tree to find graphs with similar topology.\n",
    "    \"\"\"\n",
    "    # Get adjacency matrix of graph\n",
    "    A = nx.to_numpy_array(graph)\n",
    "    \n",
    "    # Compute absolute values of eigenvalues \n",
    "    spectra = np.absolute(linalg.eigvals(A))\n",
    "    \n",
    "    # Get norm of eigenvalues (the reduction to 1 dimensions)\n",
    "    norm = linalg.norm(spectra)\n",
    "    \n",
    "    return norm"
   ]
  },
  {
   "cell_type": "code",
   "execution_count": null,
   "id": "58e2f9fa",
   "metadata": {},
   "outputs": [],
   "source": [
    "def perturbe(index):\n",
    "    # Add small random perturbation to avoid collisions\n",
    "    epsilon = (2*random.random() - 1) / 100000000\n",
    "    return index + epsilon"
   ]
  },
  {
   "cell_type": "code",
   "execution_count": null,
   "id": "2a8dfdec",
   "metadata": {},
   "outputs": [],
   "source": [
    "perturbe(index(G))"
   ]
  },
  {
   "cell_type": "markdown",
   "id": "1336a9fa",
   "metadata": {},
   "source": [
    "## Offline graph extraction"
   ]
  },
  {
   "cell_type": "code",
   "execution_count": null,
   "id": "23b44751",
   "metadata": {},
   "outputs": [],
   "source": [
    "# Extract graphs for each sketch in the dataset, offline processing step\n",
    "\n",
    "paths = get_files()\n",
    "print(len(paths))\n",
    "\n",
    "images = load_images(paths)\n",
    "\n",
    "graphs = extract_graphs(images)\n",
    "print(len(graphs))"
   ]
  },
  {
   "cell_type": "code",
   "execution_count": null,
   "id": "258c8e6b",
   "metadata": {},
   "outputs": [],
   "source": [
    "# Dump the graphs to avoid this offline step later\n",
    "dump_graphs(graphs)"
   ]
  },
  {
   "cell_type": "markdown",
   "id": "fbc4793d",
   "metadata": {},
   "source": [
    "## Database construction"
   ]
  },
  {
   "cell_type": "code",
   "execution_count": 3,
   "id": "44f53c04",
   "metadata": {},
   "outputs": [
    {
     "ename": "NameError",
     "evalue": "name 'load_graphs' is not defined",
     "output_type": "error",
     "traceback": [
      "\u001b[1;31m---------------------------------------------------------------------------\u001b[0m",
      "\u001b[1;31mNameError\u001b[0m                                 Traceback (most recent call last)",
      "\u001b[1;32mC:\\Users\\JOSEA~1.RAM\\AppData\\Local\\Temp/ipykernel_18224/556796059.py\u001b[0m in \u001b[0;36m<module>\u001b[1;34m\u001b[0m\n\u001b[0;32m      1\u001b[0m \u001b[1;31m# Load graphs from disk\u001b[0m\u001b[1;33m\u001b[0m\u001b[1;33m\u001b[0m\u001b[0m\n\u001b[1;32m----> 2\u001b[1;33m \u001b[0mgraphs\u001b[0m \u001b[1;33m=\u001b[0m \u001b[0mload_graphs\u001b[0m\u001b[1;33m(\u001b[0m\u001b[1;33m)\u001b[0m\u001b[1;33m\u001b[0m\u001b[1;33m\u001b[0m\u001b[0m\n\u001b[0m",
      "\u001b[1;31mNameError\u001b[0m: name 'load_graphs' is not defined"
     ]
    }
   ],
   "source": [
    "# Load graphs from disk\n",
    "graphs = load_graphs()"
   ]
  },
  {
   "cell_type": "code",
   "execution_count": null,
   "id": "da56ae2e",
   "metadata": {},
   "outputs": [],
   "source": [
    "# Construct database for online use\n",
    "db = construct_database(graphs)"
   ]
  },
  {
   "cell_type": "code",
   "execution_count": null,
   "id": "fb227848",
   "metadata": {},
   "outputs": [],
   "source": [
    "# Test query\n",
    "query = G\n",
    "\n",
    "candidates = query_database(db, query)\n",
    "print(candidates)\n",
    "\n",
    "counts = Counter(candidates.values())\n",
    "print(counts)"
   ]
  },
  {
   "cell_type": "code",
   "execution_count": null,
   "id": "1063b989",
   "metadata": {},
   "outputs": [],
   "source": [
    "db.close()"
   ]
  },
  {
   "cell_type": "code",
   "execution_count": null,
   "id": "d99e584c",
   "metadata": {},
   "outputs": [],
   "source": [
    "a,b,c = encode(G)\n",
    "print(a, b.shape, c.shape)"
   ]
  },
  {
   "cell_type": "markdown",
   "id": "ed381425",
   "metadata": {},
   "source": [
    "# GRAPH MATCHING"
   ]
  },
  {
   "cell_type": "code",
   "execution_count": null,
   "id": "94fd1ca5",
   "metadata": {},
   "outputs": [],
   "source": [
    "def match(graph1, graph2) -> np.array:\n",
    "    \"\"\"\n",
    "    Uses a graph match solver to find a match between two topological feature graphs.\n",
    "    \n",
    "    Uses the Quadratic Assignment Problem formulation of graph matching to encode graphs.\n",
    "    \n",
    "    The solver and parameters utilized are an implementation detail in this function.\n",
    "    \"\"\"\n",
    "    K = build_affinity(graph1, graph2)\n",
    "    X = pygm.rrwm(K, graph1.number_of_nodes(), graph2.number_of_nodes())\n",
    "    return pygm.hungarian(X)"
   ]
  },
  {
   "cell_type": "code",
   "execution_count": null,
   "id": "b4bad54a",
   "metadata": {},
   "outputs": [],
   "source": [
    "def build_affinity(graph1, graph2) -> np.array:\n",
    "    \"\"\"\n",
    "    Construct affinity matrix for matching QAP solver.\n",
    "    \"\"\"\n",
    "    node1, edge1, conn1 = encode(graph1)\n",
    "    node2, edge2, conn2 = encode(graph2)\n",
    "    \n",
    "    gaussian_aff = functools.partial(pygm.utils.gaussian_aff_fn, sigma=1) # set affinity function\n",
    "    \n",
    "    return pygm.utils.build_aff_mat(node1, edge1, conn1, node2, edge2, conn2, edge_aff_fn=gaussian_aff)"
   ]
  },
  {
   "cell_type": "code",
   "execution_count": null,
   "id": "6cc59631",
   "metadata": {},
   "outputs": [],
   "source": [
    "def encode(graph) -> Tuple[np.array, np.array, np.array]:\n",
    "    \"\"\"\n",
    "    Encode graph as a edge feature matrix, and node feature matrix, \n",
    "    connectivity matrix triple. This is fed to a QAP solver to match graphs.\n",
    "    \n",
    "    \"\"\"\n",
    "    # Extract array node features\n",
    "    n_f = extract_node_features(graph)\n",
    "    \n",
    "    # Extract adjacency matrix edge features\n",
    "    e_f = extract_edge_features(graph)\n",
    "    \n",
    "    # Derive connectivity matrix and edge features array from adjacency matrix edge features\n",
    "    conn, edge = pygm.utils.dense_to_sparse(e_f)\n",
    "    \n",
    "    return n_f, edge, conn"
   ]
  },
  {
   "cell_type": "code",
   "execution_count": null,
   "id": "b5cb8e8b",
   "metadata": {},
   "outputs": [],
   "source": [
    "def extract_edge_features(graph) -> np.array:\n",
    "    \"\"\"\n",
    "    Extract edge features in the form of an adjacency matrix with an extra feature vector axis.\n",
    "    \n",
    "    Can utilize any of the input graph's graph, node, and edge labels to derive features.\n",
    "    \n",
    "    Can utilize scikit-learn's feature extraction to vectorize discrete and continuous features:\n",
    "    https://scikit-learn.org/stable/modules/feature_extraction.html\n",
    "    \"\"\"\n",
    "    # Get adjacency matrix from graph\n",
    "    A = nx.to_numpy_array(graph)\n",
    "    \n",
    "    # ----------------\n",
    "    # Length feature\n",
    "    # ----------------\n",
    "    \n",
    "    # Get a 'positions' graph attribute:\n",
    "    pos = graph.graph['positions']\n",
    "    \n",
    "    # Convert position dictionary to numpy array\n",
    "    pos_arr = position_array(pos)\n",
    "\n",
    "    # Derive edge distances from adjacency matrix\n",
    "    A = ((np.expand_dims(pos_arr, 1) - np.expand_dims(pos_arr, 2)) ** 2).sum(axis=0) * A\n",
    "    A = (A / A.max()).astype(np.float32)\n",
    "    \n",
    "    return A"
   ]
  },
  {
   "cell_type": "code",
   "execution_count": null,
   "id": "a46f8803",
   "metadata": {},
   "outputs": [],
   "source": [
    "def extract_node_features(graph) -> Optional[np.array]:\n",
    "    \"\"\"\n",
    "    Extract node features in the form of an array of feature vectors.\n",
    "    \n",
    "    Can return None to indicate no node features.\n",
    "    \n",
    "    Can utilize any of the input graph's graph, node, and edge labels to derive features.\n",
    "    \n",
    "    Can utilize scikit-learn's feature extraction to vectorize discrete and continuous features:\n",
    "    https://scikit-learn.org/stable/modules/feature_extraction.html\n",
    "    \"\"\"\n",
    "    return None"
   ]
  },
  {
   "cell_type": "code",
   "execution_count": null,
   "id": "a9024935",
   "metadata": {},
   "outputs": [],
   "source": [
    "def position_array(pos):\n",
    "    return np.array(list(pos.values())).T"
   ]
  },
  {
   "cell_type": "code",
   "execution_count": null,
   "id": "8b0501d7",
   "metadata": {},
   "outputs": [],
   "source": [
    "def plot_graph(G, color='k'):\n",
    "    \"\"\"\n",
    "    Plots a given graph with a 'positions' attribute.\n",
    "    \"\"\"\n",
    "    assert 'positions' in G.graph\n",
    "    \n",
    "    A = nx.to_numpy_array(G)\n",
    "    \n",
    "    pos = G.graph['positions']\n",
    "    pts = position_array(pos)\n",
    "    plt.scatter(pts[0], pts[1], c='w', edgecolors=color)\n",
    "\n",
    "    for x, y in zip(np.nonzero(A)[0], np.nonzero(A)[1]):\n",
    "        plt.plot((pts[0, x], pts[0, y]), (pts[1, x], pts[1, y]), color+'-')"
   ]
  },
  {
   "cell_type": "code",
   "execution_count": null,
   "id": "25e5a204",
   "metadata": {},
   "outputs": [],
   "source": [
    "def plot_mapping(X, graph1, graph2):\n",
    "    assert 'positions' in graph1.graph\n",
    "    assert 'positions' in graph2.graph\n",
    "    \n",
    "    pos1 = graph1.graph['positions']\n",
    "    pos2 = graph2.graph['positions']\n",
    "    \n",
    "    plt.figure(figsize=(8, 4))\n",
    "    plt.suptitle('Image Matching Result by RRWM')\n",
    "\n",
    "    ax1 = plt.subplot(1, 2, 1)\n",
    "    plot_graph(graph1)\n",
    "\n",
    "    ax2 = plt.subplot(1, 2, 2)\n",
    "    plot_graph(graph2)\n",
    "\n",
    "    pts1 = position_array(pos1)\n",
    "    pts2 = position_array(pos2)\n",
    "    \n",
    "    for i in range(X.shape[0]):\n",
    "        j = np.argmax(X[i]).item()\n",
    "        con = ConnectionPatch(xyA=pts1[:, i], xyB=pts2[:, j], coordsA=\"data\", coordsB=\"data\",\n",
    "                              axesA=ax1, axesB=ax2, color=\"red\" if i != j else \"green\")\n",
    "        plt.gca().add_artist(con)"
   ]
  },
  {
   "cell_type": "code",
   "execution_count": null,
   "id": "1cb0f0bf",
   "metadata": {},
   "outputs": [],
   "source": [
    "G = nx.tutte_graph()\n",
    "G.graph['positions'] = nx.spring_layout(G)"
   ]
  },
  {
   "cell_type": "code",
   "execution_count": null,
   "id": "362be9f8",
   "metadata": {},
   "outputs": [],
   "source": [
    "nx.draw(G, pos=G.graph['positions'])"
   ]
  },
  {
   "cell_type": "code",
   "execution_count": null,
   "id": "422a56a0",
   "metadata": {},
   "outputs": [],
   "source": [
    "ax1 = plt.subplot(1, 2, 1)\n",
    "plot_graph(G)\n",
    "\n",
    "ax2 = plt.subplot(1, 2, 2)\n",
    "plot_graph(G)"
   ]
  },
  {
   "cell_type": "code",
   "execution_count": null,
   "id": "3355a176",
   "metadata": {},
   "outputs": [],
   "source": [
    "X = match(G, G)\n",
    "print(X.shape)\n",
    "X"
   ]
  },
  {
   "cell_type": "code",
   "execution_count": null,
   "id": "bbf68cb5",
   "metadata": {},
   "outputs": [],
   "source": [
    "plot_mapping(X, G, G)"
   ]
  }
 ],
 "metadata": {
  "kernelspec": {
   "display_name": "Python 3 (ipykernel)",
   "language": "python",
   "name": "python3"
  },
  "language_info": {
   "codemirror_mode": {
    "name": "ipython",
    "version": 3
   },
   "file_extension": ".py",
   "mimetype": "text/x-python",
   "name": "python",
   "nbconvert_exporter": "python",
   "pygments_lexer": "ipython3",
   "version": "3.9.7"
  }
 },
 "nbformat": 4,
 "nbformat_minor": 5
}
