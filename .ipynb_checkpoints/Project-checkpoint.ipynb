{
 "cells": [
  {
   "cell_type": "code",
   "execution_count": 1,
   "id": "0d02bd4d",
   "metadata": {},
   "outputs": [
    {
     "name": "stdout",
     "output_type": "stream",
     "text": [
      "Requirement already satisfied: opencv-python in d:\\anaconda\\lib\\site-packages (4.7.0.72)\n",
      "Requirement already satisfied: pygmtools in d:\\anaconda\\lib\\site-packages (0.3.6)\n",
      "Requirement already satisfied: numpy in d:\\anaconda\\lib\\site-packages (1.20.3)\n",
      "Requirement already satisfied: scipy in d:\\anaconda\\lib\\site-packages (1.7.1)\n",
      "Requirement already satisfied: networkx in d:\\anaconda\\lib\\site-packages (2.6.3)\n",
      "Requirement already satisfied: pandas in d:\\anaconda\\lib\\site-packages (1.3.4)\n",
      "Requirement already satisfied: shapely in d:\\anaconda\\lib\\site-packages (2.0.1)\n",
      "Requirement already satisfied: bplustree in d:\\anaconda\\lib\\site-packages (0.0.3)\n",
      "Requirement already satisfied: svgpathtools in d:\\anaconda\\lib\\site-packages (1.6.0)\n",
      "Collecting drawsvg\n",
      "  Downloading drawsvg-2.1.1-py3-none-any.whl (43 kB)\n",
      "Requirement already satisfied: requests>=2.25.1 in d:\\anaconda\\lib\\site-packages (from pygmtools) (2.26.0)\n",
      "Requirement already satisfied: easydict>=1.7 in d:\\anaconda\\lib\\site-packages (from pygmtools) (1.10)\n",
      "Requirement already satisfied: appdirs>=1.4.4 in d:\\anaconda\\lib\\site-packages (from pygmtools) (1.4.4)\n",
      "Requirement already satisfied: Pillow>=7.2.0 in d:\\anaconda\\lib\\site-packages (from pygmtools) (8.4.0)\n",
      "Requirement already satisfied: tqdm>=4.64.1 in d:\\anaconda\\lib\\site-packages (from pygmtools) (4.65.0)\n",
      "Requirement already satisfied: wget>=3.2 in d:\\anaconda\\lib\\site-packages (from pygmtools) (3.2)\n",
      "Requirement already satisfied: python-dateutil>=2.7.3 in d:\\anaconda\\lib\\site-packages (from pandas) (2.8.2)\n",
      "Requirement already satisfied: pytz>=2017.3 in d:\\anaconda\\lib\\site-packages (from pandas) (2021.3)\n",
      "Requirement already satisfied: cachetools in d:\\anaconda\\lib\\site-packages (from bplustree) (5.3.0)\n",
      "Requirement already satisfied: rwlock in d:\\anaconda\\lib\\site-packages (from bplustree) (0.0.7)\n",
      "Requirement already satisfied: svgwrite in d:\\anaconda\\lib\\site-packages (from svgpathtools) (1.4.3)\n",
      "Requirement already satisfied: six>=1.5 in d:\\anaconda\\lib\\site-packages (from python-dateutil>=2.7.3->pandas) (1.16.0)\n",
      "Requirement already satisfied: idna<4,>=2.5 in d:\\anaconda\\lib\\site-packages (from requests>=2.25.1->pygmtools) (3.2)\n",
      "Requirement already satisfied: charset-normalizer~=2.0.0 in d:\\anaconda\\lib\\site-packages (from requests>=2.25.1->pygmtools) (2.0.4)\n",
      "Requirement already satisfied: certifi>=2017.4.17 in d:\\anaconda\\lib\\site-packages (from requests>=2.25.1->pygmtools) (2021.10.8)\n",
      "Requirement already satisfied: urllib3<1.27,>=1.21.1 in d:\\anaconda\\lib\\site-packages (from requests>=2.25.1->pygmtools) (1.26.7)\n",
      "Requirement already satisfied: colorama in d:\\anaconda\\lib\\site-packages (from tqdm>=4.64.1->pygmtools) (0.4.4)\n",
      "Installing collected packages: drawsvg\n",
      "Successfully installed drawsvg-2.1.1\n"
     ]
    }
   ],
   "source": [
    "!pip install opencv-python pygmtools numpy scipy networkx pandas shapely bplustree svgpathtools drawsvg"
   ]
  },
  {
   "cell_type": "code",
   "execution_count": 2,
   "id": "9bc99d2d",
   "metadata": {},
   "outputs": [],
   "source": [
    "import pandas as pd\n",
    "\n",
    "import numpy as np\n",
    "\n",
    "import scipy as sc\n",
    "import scipy.io as scio # for loading .mat file\n",
    "from scipy import linalg\n",
    "\n",
    "from sklearn.decomposition import PCA as PCAdimReduc\n",
    "from sklearn.feature_extraction import DictVectorizer\n",
    "\n",
    "import networkx as nx\n",
    "\n",
    "import pygmtools as pygm\n",
    "\n",
    "import matplotlib.pyplot as plt\n",
    "from matplotlib.patches import ConnectionPatch\n",
    "\n",
    "import cv2\n",
    "\n",
    "import shapely\n",
    "\n",
    "import svgpathtools\n",
    "import drawsvg as draw\n",
    "\n",
    "from bplustree import BPlusTree\n",
    "from bplustree.serializer import Serializer\n",
    "\n",
    "import pickle\n",
    "\n",
    "import functools\n",
    "from itertools import product\n",
    "from typing import Optional, Tuple, List\n",
    "from collections import Counter\n",
    "\n",
    "import struct\n",
    "\n",
    "import os\n",
    "import sys\n",
    "\n",
    "import random\n",
    "\n",
    "pygm.BACKEND = 'numpy' # set numpy as backend for pygmtools"
   ]
  },
  {
   "cell_type": "markdown",
   "id": "c502a422",
   "metadata": {},
   "source": [
    "# TOPOLOGY GRAPH / GEOMETRY EXTRACTION"
   ]
  },
  {
   "cell_type": "code",
   "execution_count": null,
   "id": "b60b89a8",
   "metadata": {},
   "outputs": [],
   "source": [
    "def load(filename):\n",
    "    \"\"\"\n",
    "    Loads an image from the image library given its filename. \n",
    "    \"\"\"\n",
    "    img = cv2.imread(filename) \n",
    "    return cv2.cvtColor(img, cv2.COLOR_BGR2RGB)"
   ]
  },
  {
   "cell_type": "code",
   "execution_count": null,
   "id": "ed56918e",
   "metadata": {},
   "outputs": [],
   "source": [
    "def display(img, text='test'):\n",
    "    \"\"\"\n",
    "    Displays a provided image to the user, and wait for any input. Used for debugging.\n",
    "    \"\"\"\n",
    "    imgplot = plt.imshow(img)\n",
    "\n",
    "    plt.show()"
   ]
  },
  {
   "cell_type": "code",
   "execution_count": null,
   "id": "06f9e3e1",
   "metadata": {},
   "outputs": [],
   "source": [
    "IMAGE_DIRECTORY = os.sep.join(['assets', 'png'])\n",
    "\n",
    "def get_files(ext='png'):\n",
    "    \"\"\"\n",
    "    Returns an iterator that yields the image file paths and their labels.\n",
    "    \"\"\"    \n",
    "    def get_label(path):\n",
    "        return path.split(os.sep)[-1]\n",
    "    \n",
    "    files = []\n",
    "    \n",
    "    for r, _, f in os.walk(IMAGE_DIRECTORY):\n",
    "        for file in f:\n",
    "            if file.endswith(f'.{ext}'):\n",
    "                label = get_label(r)\n",
    "                file_path = os.path.join(r, file)\n",
    "                \n",
    "                files.append((file_path, label))\n",
    "                \n",
    "    return files"
   ]
  },
  {
   "cell_type": "code",
   "execution_count": null,
   "id": "faa70c24",
   "metadata": {},
   "outputs": [],
   "source": [
    "def load_images(files):\n",
    "    \"\"\"\n",
    "    Returns an iterator that yields the image data and their labels.\n",
    "    \"\"\"\n",
    "    for f, l in files:\n",
    "        yield load(f), l\n",
    "        \n",
    "def extract_graphs(images):\n",
    "    \"\"\"\n",
    "    Extract all graphs from given images.\n",
    "    \"\"\"\n",
    "    i = 0\n",
    "    graphs = []\n",
    "    for img, l in images:\n",
    "        graphs.append(extract_graph(img, l))\n",
    "        print(i)\n",
    "        i += 1\n",
    "    return graphs"
   ]
  },
  {
   "cell_type": "code",
   "execution_count": null,
   "id": "2f6fce56",
   "metadata": {},
   "outputs": [],
   "source": [
    "def extract_graph(img, label) -> nx.Graph:\n",
    "    \"\"\"\n",
    "    Extract topology and geometry graph from source (image, label) pair.\n",
    "    \n",
    "    Nodes signify visual units in the image. These include:\n",
    "    - Strokes (lines, curves)\n",
    "    - Shapes (circle, rectangle)\n",
    "    \n",
    "    Nodes contain data, including:\n",
    "    - Shape information\n",
    "    - Center of unit in image coordinates\n",
    "    \n",
    "    Edges specify spatial relationships between nodes, as per \n",
    "    Sousa & Fonseca. “Sketch-Based Retrieval of Drawings using Topological Proximity” :\n",
    "    - Adjacency: two nodes intersect\n",
    "    - Composition: a node is contained inside another\n",
    "    \"\"\"\n",
    "    G = nx.Graph()\n",
    "    \n",
    "    # Get sketch contours\n",
    "    contours, hierarchy = get_contours(img)\n",
    "    \n",
    "    # Use contour centroids to get node\n",
    "    centroids = get_centroids(contours)\n",
    "    \n",
    "    # Use hull to derive adjacency relations\n",
    "    hulls = get_hulls(contours)\n",
    "    \n",
    "    # Create nodes with centroid, perimeter, and area attributes\n",
    "    for i, c in enumerate(centroids):\n",
    "        if c != None and hulls[i] is not None:\n",
    "            length, area = hulls[i].length, hulls[i].area\n",
    "            G.add_node(i, position=c , length=length, area=area)\n",
    "    \n",
    "    # Create neighbor edges using convex hull intersection\n",
    "    for i, j in product(G.nodes, repeat=2):\n",
    "        h1, h2 = hulls[i], hulls[j]\n",
    "        if i != j and h1 is not None and h2 is not None and h1.intersects(h2):\n",
    "                G.add_edge(i, j, relation='neighbor')\n",
    "                \n",
    "    # Create parent edges using contour hierarchy tree\n",
    "    for i in G.nodes:\n",
    "        parent = hierarchy[0, i, -1]\n",
    "        if parent > -1:\n",
    "            G.add_edge(i, parent, relation='parent')\n",
    "    \n",
    "    # Add graph labels\n",
    "    G.graph['label'] = label\n",
    "    G.graph['positions'] = {i : np.array(c) for i, c in enumerate(centroids)}\n",
    "    \n",
    "    return G"
   ]
  },
  {
   "cell_type": "code",
   "execution_count": null,
   "id": "cfcaaf65",
   "metadata": {},
   "outputs": [],
   "source": [
    "def get_contours(img) -> List[np.array]:\n",
    "    blur = cv2.medianBlur(img, 7)\n",
    "\n",
    "    ret, thresh = cv2.threshold(cv2.cvtColor(img, cv2.COLOR_BGR2GRAY), 127, 255, cv2.THRESH_BINARY)\n",
    "\n",
    "    contours, hierarchy = cv2.findContours(thresh, cv2.RETR_TREE, cv2.CHAIN_APPROX_SIMPLE)\n",
    "#     for i in range(len(contours)):\n",
    "#         img2 = cv2.drawContours(img.copy(), contours, i, (0,255,0), 3)\n",
    "#         display(img2)\n",
    "\n",
    "    return contours, hierarchy"
   ]
  },
  {
   "cell_type": "code",
   "execution_count": null,
   "id": "9c54b4a9",
   "metadata": {},
   "outputs": [],
   "source": [
    "def get_centroids(contours) -> List[Optional[Tuple[int, int]]]:\n",
    "    \"\"\"\n",
    "    Computes the centroids of the given contours\n",
    "    \"\"\"\n",
    "    def get_centroid(c):\n",
    "        M = cv2.moments(c)\n",
    "        if M['m00'] != 0:\n",
    "            cx = int(M['m10']/M['m00'])\n",
    "            cy = int(M['m01']/M['m00'])\n",
    "            return (cx, cy)\n",
    "        return None\n",
    "            \n",
    "    return [get_centroid(c) for c in contours]"
   ]
  },
  {
   "cell_type": "code",
   "execution_count": null,
   "id": "5bb7765a",
   "metadata": {},
   "outputs": [],
   "source": [
    "def get_hulls(contours) -> List[Optional[shapely.Polygon]]:\n",
    "    \"\"\"\n",
    "    Computes the convex hulls of the given contours, and returns a polygon object.\n",
    "    \"\"\"\n",
    "    def to_polygon(hull):\n",
    "        n, *_ = hull.shape\n",
    "        if n > 3:\n",
    "            return shapely.Polygon(np.reshape(hull, (n, 2)))\n",
    "        return None\n",
    "    \n",
    "    return [to_polygon(cv2.convexHull(c)) for c in contours]"
   ]
  },
  {
   "cell_type": "code",
   "execution_count": null,
   "id": "1b3ade14",
   "metadata": {},
   "outputs": [],
   "source": [
    "def plot_graph(G):\n",
    "    pos = G.graph['positions']\n",
    "    plt.figure()\n",
    "    nx.draw(\n",
    "        G, pos, edge_color='black', width=1, linewidths=1,\n",
    "        node_size=500, node_color='blue', alpha=0.5\n",
    "    )\n",
    "    nx.draw_networkx_edge_labels(\n",
    "        G, pos,\n",
    "        edge_labels=nx.get_edge_attributes(G,'relation'),\n",
    "        font_color='red'\n",
    "    )\n",
    "    plt.axis('off')\n",
    "    plt.show()"
   ]
  },
  {
   "cell_type": "code",
   "execution_count": null,
   "id": "5b54b548",
   "metadata": {},
   "outputs": [],
   "source": [
    "img = load('assets/png/angel/189.png')\n",
    "display(img)\n",
    "\n",
    "G = extract_graph(img, 'angel')\n",
    "plot_graph(G)"
   ]
  },
  {
   "cell_type": "markdown",
   "id": "10d00714",
   "metadata": {},
   "source": [
    "# DATABASE"
   ]
  },
  {
   "cell_type": "code",
   "execution_count": null,
   "id": "6c06d701",
   "metadata": {},
   "outputs": [],
   "source": [
    "def dump_graphs(graphs):\n",
    "    with open(\"graphs.p\", 'wb') as f:\n",
    "        pickle.dump(graphs, f)\n",
    "    \n",
    "def load_graphs() -> List[nx.Graph]:\n",
    "    with open(\"graphs.p\", 'rb') as f:\n",
    "        return pickle.load(f)"
   ]
  },
  {
   "cell_type": "code",
   "execution_count": null,
   "id": "6ae1f1dc",
   "metadata": {},
   "outputs": [],
   "source": [
    "class NeighborBPlusTree(BPlusTree): \n",
    "    def get_neighbors(self, key, default={}) -> dict:\n",
    "        with self._mem.read_transaction:\n",
    "            node = self._search_in_tree(key, self._root_node)\n",
    "            records = node.entries\n",
    "            rv = {r.key: self._get_value_from_record(r) for r in records}\n",
    "            assert isinstance(rv, dict)\n",
    "            return rv\n",
    "            \n",
    "class DoubleSerializer(Serializer):\n",
    "    __slots__ = []\n",
    "\n",
    "    def serialize(self, obj: float, key_size: int) -> bytes:\n",
    "        return struct.pack('d', obj)\n",
    "\n",
    "    def deserialize(self, data: bytes) -> float:\n",
    "        return struct.unpack('d', data)[0]"
   ]
  },
  {
   "cell_type": "code",
   "execution_count": null,
   "id": "4b636de7",
   "metadata": {},
   "outputs": [],
   "source": [
    "def construct_database(graphs) -> BPlusTree:\n",
    "    \"\"\"\n",
    "    Populates database with all graphs extracted from images, along with image index and label.\n",
    "    \n",
    "    Uses the algorithms described in Fonseca and Jorge \"Indexing High-Dimensional Data for \n",
    "    Content-Based Retrieval in Large Databases\".\n",
    "    \n",
    "    Constructs a B+tree that uses the index described in the paper to map labels, facilitates\n",
    "    range queries and KNN queries. \n",
    "    \n",
    "    The B+-tree maps the index to graph information, serialized to bytes.\n",
    "    \n",
    "    TO-DO: change from only encoding label to more graph features!\n",
    "    \"\"\"\n",
    "    def construction_index(G):\n",
    "        return perturbe(index(G))\n",
    "    \n",
    "    # Create database, with key_size of 8 bytes (C double), other parameters to be determined\n",
    "    db = NeighborBPlusTree('db/labels.db', serializer=DoubleSerializer(), order=64, key_size=8)\n",
    "    \n",
    "    try:\n",
    "        # Create iterator for all key/value pairs to be inserted into database\n",
    "        iterator = sorted( \n",
    "            zip(\n",
    "                # All keys\n",
    "                map(construction_index, graphs),\n",
    "                # All values (binary)\n",
    "                map(lambda G: G.graph['label'].encode(), graphs)\n",
    "            ),\n",
    "            key=lambda t: t[0]\n",
    "        )\n",
    "        counts = Counter(map(lambda t: t[0], iterator))\n",
    "        print(len(counts))\n",
    "        assert len(counts) == 20_000\n",
    "\n",
    "#         # Insert all key/value pairs into the database\n",
    "        db.batch_insert(iterator)\n",
    "#         for k, v in iterator:\n",
    "#             db[k] = v\n",
    "\n",
    "        # Flush\n",
    "        db.checkpoint()\n",
    "        return db        \n",
    "        \n",
    "    except:\n",
    "        # DB unexpected error, close.\n",
    "        erase_database(db)\n",
    "        raise \n",
    "\n",
    "def erase_database(db):\n",
    "    db.close()\n",
    "    os.remove('db/labels.db')"
   ]
  },
  {
   "cell_type": "code",
   "execution_count": null,
   "id": "b654ec51",
   "metadata": {},
   "outputs": [],
   "source": [
    "def query_database(db, query):\n",
    "    \"\"\"\n",
    "    Returns set of candidate graphs from the database using a query graph.\n",
    "    \n",
    "    Uses the K-NN query from Fonseca and Jorge \"Indexing High-Dimensional \n",
    "    Data for Content-Based Retrieval in Large Databases\".\n",
    "    \"\"\"\n",
    "    key = index(query)\n",
    "    \n",
    "    return db.get_neighbors(key)"
   ]
  },
  {
   "cell_type": "code",
   "execution_count": null,
   "id": "67739822",
   "metadata": {},
   "outputs": [],
   "source": [
    "def index(graph):\n",
    "    \"\"\"\n",
    "    Get the topology index of the graph, as described in \n",
    "    Sousa and Fonseca \"Sketch-Based Retrieval of Drawings using Topological Proximity\"\n",
    "    and in Fonseca and Jorge \"Indexing High-Dimensional Data for Content-Based Retrieval \n",
    "    in Large Databases\".\n",
    "    \n",
    "    Is the norm of the array of absolute value eigenvalues of the graph's adjacency matrix.\n",
    "    \n",
    "    This is used as the index of a B+-tree to find graphs with similar topology.\n",
    "    \"\"\"\n",
    "    # Get adjacency matrix of graph\n",
    "    A = nx.to_numpy_array(graph)\n",
    "    \n",
    "    # Compute absolute values of eigenvalues \n",
    "    spectra = np.absolute(linalg.eigvals(A))\n",
    "    \n",
    "    # Get norm of eigenvalues (the reduction to 1 dimensions)\n",
    "    norm = linalg.norm(spectra)\n",
    "    \n",
    "    return norm"
   ]
  },
  {
   "cell_type": "code",
   "execution_count": null,
   "id": "5e76fc8b",
   "metadata": {},
   "outputs": [],
   "source": [
    "def perturbe(index):\n",
    "    # Add small random perturbation to avoid collisions\n",
    "    epsilon = (2*random.random() - 1) / 100000000\n",
    "    return index + epsilon"
   ]
  },
  {
   "cell_type": "code",
   "execution_count": null,
   "id": "ee5d3944",
   "metadata": {},
   "outputs": [],
   "source": [
    "perturbe(index(G))"
   ]
  },
  {
   "cell_type": "markdown",
   "id": "ba483a0f",
   "metadata": {},
   "source": [
    "## Offline graph extraction"
   ]
  },
  {
   "cell_type": "code",
   "execution_count": null,
   "id": "dec17158",
   "metadata": {},
   "outputs": [],
   "source": [
    "# Extract graphs for each sketch in the dataset, offline processing step\n",
    "\n",
    "paths = get_files()\n",
    "print(len(paths))\n",
    "\n",
    "images = load_images(paths)\n",
    "\n",
    "graphs = extract_graphs(images)\n",
    "print(len(graphs))"
   ]
  },
  {
   "cell_type": "code",
   "execution_count": null,
   "id": "3cc319da",
   "metadata": {},
   "outputs": [],
   "source": [
    "# Dump the graphs to avoid this offline step later\n",
    "dump_graphs(graphs)"
   ]
  },
  {
   "cell_type": "markdown",
   "id": "e19184a7",
   "metadata": {},
   "source": [
    "## Database construction"
   ]
  },
  {
   "cell_type": "code",
   "execution_count": 3,
   "id": "45919739",
   "metadata": {},
   "outputs": [
    {
     "ename": "NameError",
     "evalue": "name 'load_graphs' is not defined",
     "output_type": "error",
     "traceback": [
      "\u001b[1;31m---------------------------------------------------------------------------\u001b[0m",
      "\u001b[1;31mNameError\u001b[0m                                 Traceback (most recent call last)",
      "\u001b[1;32mC:\\Users\\JOSEA~1.RAM\\AppData\\Local\\Temp/ipykernel_18224/556796059.py\u001b[0m in \u001b[0;36m<module>\u001b[1;34m\u001b[0m\n\u001b[0;32m      1\u001b[0m \u001b[1;31m# Load graphs from disk\u001b[0m\u001b[1;33m\u001b[0m\u001b[1;33m\u001b[0m\u001b[0m\n\u001b[1;32m----> 2\u001b[1;33m \u001b[0mgraphs\u001b[0m \u001b[1;33m=\u001b[0m \u001b[0mload_graphs\u001b[0m\u001b[1;33m(\u001b[0m\u001b[1;33m)\u001b[0m\u001b[1;33m\u001b[0m\u001b[1;33m\u001b[0m\u001b[0m\n\u001b[0m",
      "\u001b[1;31mNameError\u001b[0m: name 'load_graphs' is not defined"
     ]
    }
   ],
   "source": [
    "# Load graphs from disk\n",
    "graphs = load_graphs()"
   ]
  },
  {
   "cell_type": "code",
   "execution_count": null,
   "id": "37cc0bef",
   "metadata": {},
   "outputs": [],
   "source": [
    "# Construct database for online use\n",
    "db = construct_database(graphs)"
   ]
  },
  {
   "cell_type": "code",
   "execution_count": null,
   "id": "1f56a63b",
   "metadata": {},
   "outputs": [],
   "source": [
    "# Test query\n",
    "query = G\n",
    "\n",
    "candidates = query_database(db, query)\n",
    "print(candidates)\n",
    "\n",
    "counts = Counter(candidates.values())\n",
    "print(counts)"
   ]
  },
  {
   "cell_type": "code",
   "execution_count": null,
   "id": "56dc404e",
   "metadata": {},
   "outputs": [],
   "source": [
    "db.close()"
   ]
  },
  {
   "cell_type": "code",
   "execution_count": null,
   "id": "5d945439",
   "metadata": {},
   "outputs": [],
   "source": [
    "a,b,c = encode(G)\n",
    "print(a, b.shape, c.shape)"
   ]
  },
  {
   "cell_type": "markdown",
   "id": "ed381425",
   "metadata": {},
   "source": [
    "# GRAPH MATCHING"
   ]
  },
  {
   "cell_type": "code",
   "execution_count": null,
   "id": "94fd1ca5",
   "metadata": {},
   "outputs": [],
   "source": [
    "def match(graph1, graph2) -> np.array:\n",
    "    \"\"\"\n",
    "    Uses a graph match solver to find a match between two topological feature graphs.\n",
    "    \n",
    "    Uses the Quadratic Assignment Problem formulation of graph matching to encode graphs.\n",
    "    \n",
    "    The solver and parameters utilized are an implementation detail in this function.\n",
    "    \"\"\"\n",
    "    K = build_affinity(graph1, graph2)\n",
    "    X = pygm.rrwm(K, graph1.number_of_nodes(), graph2.number_of_nodes())\n",
    "    return pygm.hungarian(X)"
   ]
  },
  {
   "cell_type": "code",
   "execution_count": null,
   "id": "b4bad54a",
   "metadata": {},
   "outputs": [],
   "source": [
    "def build_affinity(graph1, graph2) -> np.array:\n",
    "    \"\"\"\n",
    "    Construct affinity matrix for matching QAP solver.\n",
    "    \"\"\"\n",
    "    node1, edge1, conn1 = encode(graph1)\n",
    "    node2, edge2, conn2 = encode(graph2)\n",
    "    \n",
    "    gaussian_aff = functools.partial(pygm.utils.gaussian_aff_fn, sigma=1) # set affinity function\n",
    "    \n",
    "    return pygm.utils.build_aff_mat(node1, edge1, conn1, node2, edge2, conn2, edge_aff_fn=gaussian_aff)"
   ]
  },
  {
   "cell_type": "code",
   "execution_count": null,
   "id": "6cc59631",
   "metadata": {},
   "outputs": [],
   "source": [
    "def encode(graph) -> Tuple[np.array, np.array, np.array]:\n",
    "    \"\"\"\n",
    "    Encode graph as a edge feature matrix, and node feature matrix, \n",
    "    connectivity matrix triple. This is fed to a QAP solver to match graphs.\n",
    "    \n",
    "    \"\"\"\n",
    "    # Extract array node features\n",
    "    n_f = extract_node_features(graph)\n",
    "    \n",
    "    # Extract adjacency matrix edge features\n",
    "    e_f = extract_edge_features(graph)\n",
    "    \n",
    "    # Derive connectivity matrix and edge features array from adjacency matrix edge features\n",
    "    conn, edge = pygm.utils.dense_to_sparse(e_f)\n",
    "    \n",
    "    return n_f, edge, conn"
   ]
  },
  {
   "cell_type": "code",
   "execution_count": null,
   "id": "b5cb8e8b",
   "metadata": {},
   "outputs": [],
   "source": [
    "def extract_edge_features(graph) -> np.array:\n",
    "    \"\"\"\n",
    "    Extract edge features in the form of an adjacency matrix with an extra feature vector axis.\n",
    "    \n",
    "    Can utilize any of the input graph's graph, node, and edge labels to derive features.\n",
    "    \n",
    "    Can utilize scikit-learn's feature extraction to vectorize discrete and continuous features:\n",
    "    https://scikit-learn.org/stable/modules/feature_extraction.html\n",
    "    \"\"\"\n",
    "    # Get adjacency matrix from graph\n",
    "    A = nx.to_numpy_array(graph)\n",
    "    \n",
    "    # ----------------\n",
    "    # Length feature\n",
    "    # ----------------\n",
    "    \n",
    "    # Get a 'positions' graph attribute:\n",
    "    pos = graph.graph['positions']\n",
    "    \n",
    "    # Convert position dictionary to numpy array\n",
    "    pos_arr = position_array(pos)\n",
    "\n",
    "    # Derive edge distances from adjacency matrix\n",
    "    A = ((np.expand_dims(pos_arr, 1) - np.expand_dims(pos_arr, 2)) ** 2).sum(axis=0) * A\n",
    "    A = (A / A.max()).astype(np.float32)\n",
    "    \n",
    "    return A"
   ]
  },
  {
   "cell_type": "code",
   "execution_count": null,
   "id": "a46f8803",
   "metadata": {},
   "outputs": [],
   "source": [
    "def extract_node_features(graph) -> Optional[np.array]:\n",
    "    \"\"\"\n",
    "    Extract node features in the form of an array of feature vectors.\n",
    "    \n",
    "    Can return None to indicate no node features.\n",
    "    \n",
    "    Can utilize any of the input graph's graph, node, and edge labels to derive features.\n",
    "    \n",
    "    Can utilize scikit-learn's feature extraction to vectorize discrete and continuous features:\n",
    "    https://scikit-learn.org/stable/modules/feature_extraction.html\n",
    "    \"\"\"\n",
    "    return None"
   ]
  },
  {
   "cell_type": "code",
   "execution_count": null,
   "id": "a9024935",
   "metadata": {},
   "outputs": [],
   "source": [
    "def position_array(pos):\n",
    "    return np.array(list(pos.values())).T"
   ]
  },
  {
   "cell_type": "code",
   "execution_count": null,
   "id": "8b0501d7",
   "metadata": {},
   "outputs": [],
   "source": [
    "def plot_graph(G, color='k'):\n",
    "    \"\"\"\n",
    "    Plots a given graph with a 'positions' attribute.\n",
    "    \"\"\"\n",
    "    assert 'positions' in G.graph\n",
    "    \n",
    "    A = nx.to_numpy_array(G)\n",
    "    \n",
    "    pos = G.graph['positions']\n",
    "    pts = position_array(pos)\n",
    "    plt.scatter(pts[0], pts[1], c='w', edgecolors=color)\n",
    "\n",
    "    for x, y in zip(np.nonzero(A)[0], np.nonzero(A)[1]):\n",
    "        plt.plot((pts[0, x], pts[0, y]), (pts[1, x], pts[1, y]), color+'-')"
   ]
  },
  {
   "cell_type": "code",
   "execution_count": null,
   "id": "25e5a204",
   "metadata": {},
   "outputs": [],
   "source": [
    "def plot_mapping(X, graph1, graph2):\n",
    "    assert 'positions' in graph1.graph\n",
    "    assert 'positions' in graph2.graph\n",
    "    \n",
    "    pos1 = graph1.graph['positions']\n",
    "    pos2 = graph2.graph['positions']\n",
    "    \n",
    "    plt.figure(figsize=(8, 4))\n",
    "    plt.suptitle('Image Matching Result by RRWM')\n",
    "\n",
    "    ax1 = plt.subplot(1, 2, 1)\n",
    "    plot_graph(graph1)\n",
    "\n",
    "    ax2 = plt.subplot(1, 2, 2)\n",
    "    plot_graph(graph2)\n",
    "\n",
    "    pts1 = position_array(pos1)\n",
    "    pts2 = position_array(pos2)\n",
    "    \n",
    "    for i in range(X.shape[0]):\n",
    "        j = np.argmax(X[i]).item()\n",
    "        con = ConnectionPatch(xyA=pts1[:, i], xyB=pts2[:, j], coordsA=\"data\", coordsB=\"data\",\n",
    "                              axesA=ax1, axesB=ax2, color=\"red\" if i != j else \"green\")\n",
    "        plt.gca().add_artist(con)"
   ]
  },
  {
   "cell_type": "code",
   "execution_count": null,
   "id": "1cb0f0bf",
   "metadata": {},
   "outputs": [],
   "source": [
    "G = nx.tutte_graph()\n",
    "G.graph['positions'] = nx.spring_layout(G)"
   ]
  },
  {
   "cell_type": "code",
   "execution_count": null,
   "id": "362be9f8",
   "metadata": {},
   "outputs": [],
   "source": [
    "nx.draw(G, pos=G.graph['positions'])"
   ]
  },
  {
   "cell_type": "code",
   "execution_count": null,
   "id": "422a56a0",
   "metadata": {},
   "outputs": [],
   "source": [
    "ax1 = plt.subplot(1, 2, 1)\n",
    "plot_graph(G)\n",
    "\n",
    "ax2 = plt.subplot(1, 2, 2)\n",
    "plot_graph(G)"
   ]
  },
  {
   "cell_type": "code",
   "execution_count": null,
   "id": "3355a176",
   "metadata": {},
   "outputs": [],
   "source": [
    "X = match(G, G)\n",
    "print(X.shape)\n",
    "X"
   ]
  },
  {
   "cell_type": "code",
   "execution_count": null,
   "id": "bbf68cb5",
   "metadata": {},
   "outputs": [],
   "source": [
    "plot_mapping(X, G, G)"
   ]
  }
 ],
 "metadata": {
  "kernelspec": {
   "display_name": "Python 3 (ipykernel)",
   "language": "python",
   "name": "python3"
  },
  "language_info": {
   "codemirror_mode": {
    "name": "ipython",
    "version": 3
   },
   "file_extension": ".py",
   "mimetype": "text/x-python",
   "name": "python",
   "nbconvert_exporter": "python",
   "pygments_lexer": "ipython3",
   "version": "3.9.7"
  }
 },
 "nbformat": 4,
 "nbformat_minor": 5
}
